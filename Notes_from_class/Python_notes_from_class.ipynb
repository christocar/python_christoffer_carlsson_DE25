{
 "cells": [
  {
   "cell_type": "code",
   "execution_count": null,
   "id": "bdf7f868",
   "metadata": {},
   "outputs": [],
   "source": [
    "\"\"\"\n",
    "Python - pipeline - data load - data transform - dapster python - dbt pyspark - \n",
    "\"\"\""
   ]
  }
 ],
 "metadata": {
  "language_info": {
   "name": "python"
  }
 },
 "nbformat": 4,
 "nbformat_minor": 5
}
