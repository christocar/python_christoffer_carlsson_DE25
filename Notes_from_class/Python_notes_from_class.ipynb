{
 "cells": [
  {
   "cell_type": "code",
   "execution_count": null,
   "id": "bdf7f868",
   "metadata": {},
   "outputs": [],
   "source": [
    "\"\"\"\n",
    "Python - pipeline - data load - data transform - dapster python - dbt pyspark - \n",
    "\n",
    "High level language = easy to read, write, maintain\n",
    "\n",
    "Automation - web scraping - machine learning - data analysis - web development\n",
    "\n",
    "Pandas - numpy - matplotlib - seaborn - scikit-learn - tensorflow - keras - flask - django\n",
    "\n",
    "\n",
    "\n",
    "\n",
    "\n",
    "\"\"\""
   ]
  }
 ],
 "metadata": {
  "language_info": {
   "name": "python"
  }
 },
 "nbformat": 4,
 "nbformat_minor": 5
}
