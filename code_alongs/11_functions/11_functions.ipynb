{
 "cells": [
  {
   "cell_type": "markdown",
   "id": "3c0216c2",
   "metadata": {},
   "source": [
    "# functions\n",
    "- for reusable code"
   ]
  },
  {
   "cell_type": "markdown",
   "id": "a9ae86bc",
   "metadata": {},
   "source": [
    "Create a function and understand the terminology"
   ]
  },
  {
   "cell_type": "code",
   "execution_count": null,
   "id": "2302c748",
   "metadata": {},
   "outputs": [],
   "source": [
    "# a simple example of function\n",
    "def squarer(x): # use keyword def; squarer is the function name; x is the input parameter\n",
    "    result = x**2 # statements; do something with the input parameter\n",
    "    return result # return block defines the output of the function"
   ]
  },
  {
   "cell_type": "code",
   "execution_count": null,
   "id": "b9bfa40c",
   "metadata": {},
   "outputs": [
    {
     "data": {
      "text/plain": [
       "4"
      ]
     },
     "execution_count": 4,
     "metadata": {},
     "output_type": "execute_result"
    }
   ],
   "source": [
    "# call for a functinon\n",
    "squarer(2) # cite the function; () is the callable symbol; 2 is the argument"
   ]
  },
  {
   "cell_type": "markdown",
   "id": "162266e3",
   "metadata": {},
   "source": [
    "##### positional arguments"
   ]
  },
  {
   "cell_type": "code",
   "execution_count": 5,
   "id": "3695b845",
   "metadata": {},
   "outputs": [],
   "source": [
    "def my_fruits(fruit_i_like, fruit_i_hate):\n",
    "    print(\"I like to eat \" + fruit_i_like)\n",
    "    print(\"I hate to eat \" + fruit_i_hate)\n",
    "    return None # python will add this line if you don't have return block\n"
   ]
  },
  {
   "cell_type": "code",
   "execution_count": null,
   "id": "a8e0e2f0",
   "metadata": {},
   "outputs": [
    {
     "name": "stdout",
     "output_type": "stream",
     "text": [
      "I like to eat apple\n",
      "I hate to eat orange\n"
     ]
    }
   ],
   "source": [
    "# it defines the order of the arguments\n",
    "my_fruits(\"apple\", \"orange\") # positional arguments"
   ]
  },
  {
   "cell_type": "markdown",
   "id": "f716a0cc",
   "metadata": {},
   "source": [
    "##### keyword arguments"
   ]
  },
  {
   "cell_type": "code",
   "execution_count": 9,
   "id": "da98fdee",
   "metadata": {},
   "outputs": [
    {
     "name": "stdout",
     "output_type": "stream",
     "text": [
      "I like to eat orange\n",
      "I hate to eat apple\n"
     ]
    }
   ],
   "source": [
    "# if you don't want to depend om the positions of arguments, you can use keyword arguments\n",
    "my_fruits(fruit_i_hate=\"apple\", fruit_i_like=\"orange\")"
   ]
  },
  {
   "cell_type": "code",
   "execution_count": 11,
   "id": "5c439072",
   "metadata": {},
   "outputs": [
    {
     "ename": "TypeError",
     "evalue": "my_fruits() takes 2 positional arguments but 3 were given",
     "output_type": "error",
     "traceback": [
      "\u001b[31m---------------------------------------------------------------------------\u001b[39m",
      "\u001b[31mTypeError\u001b[39m                                 Traceback (most recent call last)",
      "\u001b[36mCell\u001b[39m\u001b[36m \u001b[39m\u001b[32mIn[11]\u001b[39m\u001b[32m, line 2\u001b[39m\n\u001b[32m      1\u001b[39m \u001b[38;5;66;03m# what if I provide three fruits?\u001b[39;00m\n\u001b[32m----> \u001b[39m\u001b[32m2\u001b[39m \u001b[43mmy_fruits\u001b[49m\u001b[43m(\u001b[49m\u001b[33;43m\"\u001b[39;49m\u001b[33;43mapple\u001b[39;49m\u001b[33;43m\"\u001b[39;49m\u001b[43m,\u001b[49m\u001b[43m \u001b[49m\u001b[33;43m\"\u001b[39;49m\u001b[33;43morange\u001b[39;49m\u001b[33;43m\"\u001b[39;49m\u001b[43m,\u001b[49m\u001b[43m \u001b[49m\u001b[33;43m\"\u001b[39;49m\u001b[33;43mstrawberry\u001b[39;49m\u001b[33;43m\"\u001b[39;49m\u001b[43m)\u001b[49m \u001b[38;5;66;03m# TypeError: my_fruits() takes 2 positional arguments but 3 were given\u001b[39;00m\n\u001b[32m      3\u001b[39m \u001b[38;5;66;03m# we have to do it differently\u001b[39;00m\n",
      "\u001b[31mTypeError\u001b[39m: my_fruits() takes 2 positional arguments but 3 were given"
     ]
    }
   ],
   "source": [
    "# what if I provide three fruits?\n",
    "my_fruits(\"apple\", \"orange\", \"strawberry\") # TypeError: my_fruits() takes 2 positional arguments but 3 were given\n",
    "# we have to do it differently"
   ]
  },
  {
   "cell_type": "markdown",
   "id": "d75b3b8a",
   "metadata": {},
   "source": [
    "##### unknown number of positional arguments"
   ]
  },
  {
   "cell_type": "code",
   "execution_count": 14,
   "id": "17902543",
   "metadata": {},
   "outputs": [],
   "source": [
    "# suppose that I want to print out all fruits that are inputed as arguments to a function\n",
    "# we will use a symbol * in the parameter\n",
    "\n",
    "def print_fruits(*fruits): # * means unknown number of positional arguments\n",
    "    for fruit in fruits: # fruit is now a tuple\n",
    "        print(fruit)"
   ]
  },
  {
   "cell_type": "code",
   "execution_count": 16,
   "id": "8f95d734",
   "metadata": {},
   "outputs": [
    {
     "name": "stdout",
     "output_type": "stream",
     "text": [
      "apple\n",
      "orange\n",
      "strawberry\n",
      "banana\n"
     ]
    }
   ],
   "source": [
    "print_fruits(\"apple\", \"orange\", \"strawberry\", \"banana\") # input any number of arguments"
   ]
  },
  {
   "cell_type": "markdown",
   "id": "a1d33b66",
   "metadata": {},
   "source": [
    "##### unknown number of keyword arguments"
   ]
  },
  {
   "cell_type": "code",
   "execution_count": 22,
   "id": "bcf5338f",
   "metadata": {},
   "outputs": [],
   "source": [
    "def print_nr_fruits(**fruits): # ** means unknown number of keyword arguments\n",
    "    for key, value in fruits.items(): # fruits is now a dictionary\n",
    "        print(key, value)\n",
    "    return type(fruits) # return the type of fruits"
   ]
  },
  {
   "cell_type": "code",
   "execution_count": 23,
   "id": "12fd93d5",
   "metadata": {},
   "outputs": [
    {
     "name": "stdout",
     "output_type": "stream",
     "text": [
      "fruit1 apple\n",
      "fruit2 orange\n",
      "fruit3 strawberry\n",
      "fruit4 banana\n"
     ]
    },
    {
     "data": {
      "text/plain": [
       "dict"
      ]
     },
     "execution_count": 23,
     "metadata": {},
     "output_type": "execute_result"
    }
   ],
   "source": [
    "print_nr_fruits(fruit1=\"apple\", fruit2=\"orange\", fruit3=\"strawberry\", fruit4=\"banana\") # input any number of keyword arguments"
   ]
  },
  {
   "cell_type": "markdown",
   "id": "ce150caa",
   "metadata": {},
   "source": []
  }
 ],
 "metadata": {
  "kernelspec": {
   "display_name": "Python 3",
   "language": "python",
   "name": "python3"
  },
  "language_info": {
   "codemirror_mode": {
    "name": "ipython",
    "version": 3
   },
   "file_extension": ".py",
   "mimetype": "text/x-python",
   "name": "python",
   "nbconvert_exporter": "python",
   "pygments_lexer": "ipython3",
   "version": "3.12.10"
  }
 },
 "nbformat": 4,
 "nbformat_minor": 5
}
