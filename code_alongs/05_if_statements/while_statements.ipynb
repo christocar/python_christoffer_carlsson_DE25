{
 "cells": [
  {
   "cell_type": "markdown",
   "id": "3d4faa29",
   "metadata": {},
   "source": [
    "# While statements"
   ]
  },
  {
   "cell_type": "markdown",
   "id": "d9d29921",
   "metadata": {},
   "source": []
  }
 ],
 "metadata": {
  "language_info": {
   "name": "python"
  }
 },
 "nbformat": 4,
 "nbformat_minor": 5
}
