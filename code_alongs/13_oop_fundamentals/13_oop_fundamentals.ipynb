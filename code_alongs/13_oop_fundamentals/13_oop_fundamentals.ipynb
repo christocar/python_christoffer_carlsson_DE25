{
 "cells": [
  {
   "cell_type": "markdown",
   "id": "c4b566f5",
   "metadata": {},
   "source": [
    "# oop fundamentals"
   ]
  },
  {
   "cell_type": "code",
   "execution_count": 10,
   "id": "d59b9f32",
   "metadata": {},
   "outputs": [
    {
     "data": {
      "text/plain": [
       "<__main__.Admission at 0x290096d8b90>"
      ]
     },
     "execution_count": 10,
     "metadata": {},
     "output_type": "execute_result"
    }
   ],
   "source": [
    "class Admission:\n",
    "    def __init__(self, school, program, name, accept):\n",
    "        self.school = school\n",
    "        self.program = program\n",
    "        self.name = name\n",
    "        self.accept = accept\n",
    "\n",
    "person1 = Admission(\"Cool school\", \"AI\", accept = True, name = \"Kokchun\")\n",
    "person1"
   ]
  },
  {
   "cell_type": "code",
   "execution_count": 11,
   "id": "3a0cd5d0",
   "metadata": {},
   "outputs": [
    {
     "data": {
      "text/plain": [
       "('Cool school', 'Kokchun')"
      ]
     },
     "execution_count": 11,
     "metadata": {},
     "output_type": "execute_result"
    }
   ],
   "source": [
    "person1.school, person1.name"
   ]
  },
  {
   "cell_type": "code",
   "execution_count": 12,
   "id": "54655619",
   "metadata": {},
   "outputs": [
    {
     "data": {
      "text/plain": [
       "'Bella'"
      ]
     },
     "execution_count": 12,
     "metadata": {},
     "output_type": "execute_result"
    }
   ],
   "source": [
    "person1.name = \"Bella\"\n",
    "person1.name"
   ]
  },
  {
   "cell_type": "code",
   "execution_count": 13,
   "id": "e5d4b923",
   "metadata": {},
   "outputs": [
    {
     "data": {
      "text/plain": [
       "('Data Engineer', 'AI')"
      ]
     },
     "execution_count": 13,
     "metadata": {},
     "output_type": "execute_result"
    }
   ],
   "source": [
    "person2 = Admission(\"Cooler school\", \"Data Engineer\", accept = False, name = \"Gore Bord\")\n",
    "person2.program, person1.program"
   ]
  },
  {
   "cell_type": "code",
   "execution_count": 14,
   "id": "59d59200",
   "metadata": {},
   "outputs": [
    {
     "data": {
      "text/plain": [
       "False"
      ]
     },
     "execution_count": 14,
     "metadata": {},
     "output_type": "execute_result"
    }
   ],
   "source": [
    "person1 == person2"
   ]
  },
  {
   "cell_type": "code",
   "execution_count": 15,
   "id": "2be9c5c9",
   "metadata": {},
   "outputs": [
    {
     "data": {
      "text/plain": [
       "('0x290096d8b90', '0x290096d9490')"
      ]
     },
     "execution_count": 15,
     "metadata": {},
     "output_type": "execute_result"
    }
   ],
   "source": [
    "hex(id(person1)), hex(id(person2))"
   ]
  },
  {
   "cell_type": "markdown",
   "id": "51ec3828",
   "metadata": {},
   "source": [
    "__repr__"
   ]
  },
  {
   "cell_type": "code",
   "execution_count": 18,
   "id": "bc889dd3",
   "metadata": {},
   "outputs": [
    {
     "data": {
      "text/plain": [
       "Admission(school = Cool school, program = Java, name = Victor Freeze, accept = True)"
      ]
     },
     "execution_count": 18,
     "metadata": {},
     "output_type": "execute_result"
    }
   ],
   "source": [
    "class Admission:\n",
    "    def __init__(self, school, program, name, accept):\n",
    "        self.school = school\n",
    "        self.program = program\n",
    "        self.name = name\n",
    "        self.accept = accept\n",
    "\n",
    "    def __repr__(self):\n",
    "        return f\"Admission(school = {self.school}, program = {self.program}, name = {self.name}, accept = {self.accept})\"\n",
    "\n",
    "student = Admission(\"Cool school\", \"Java\", \"Victor Freeze\", True)\n",
    "student"
   ]
  },
  {
   "cell_type": "markdown",
   "id": "f47226cd",
   "metadata": {},
   "source": [
    "# code along in class"
   ]
  },
  {
   "cell_type": "code",
   "execution_count": 3,
   "id": "1cc435cc",
   "metadata": {},
   "outputs": [
    {
     "name": "stdout",
     "output_type": "stream",
     "text": [
      "dunder init running\n"
     ]
    },
    {
     "data": {
      "text/plain": [
       "'STI'"
      ]
     },
     "execution_count": 3,
     "metadata": {},
     "output_type": "execute_result"
    }
   ],
   "source": [
    "# oop fundamentals\n",
    "\n",
    "class Admission: # define a class named Admission\n",
    "# this method will be run when you instantiate an object from this class\n",
    "    def __init__(self, school, name, program = \"Cool program\"): # dunder init - initializer - note 2 underscores before and after init\n",
    "        print(\"dunder init running\")\n",
    "\n",
    "       #set the attributes to the values from the arguments\n",
    "        self.school = school\n",
    "        self.name = name\n",
    "        self.program = program\n",
    "\n",
    "# instantiate the instance that is from type Admission\n",
    "person1 = Admission(\"STI\", \"Ceda\")\n",
    "person1.school"
   ]
  },
  {
   "cell_type": "code",
   "execution_count": 5,
   "id": "0ef078f4",
   "metadata": {},
   "outputs": [
    {
     "data": {
      "text/plain": [
       "'Cool program'"
      ]
     },
     "execution_count": 5,
     "metadata": {},
     "output_type": "execute_result"
    }
   ],
   "source": [
    "person1.program"
   ]
  },
  {
   "cell_type": "code",
   "execution_count": 6,
   "id": "da98ad8e",
   "metadata": {},
   "outputs": [
    {
     "name": "stdout",
     "output_type": "stream",
     "text": [
      "dunder init running\n"
     ]
    },
    {
     "data": {
      "text/plain": [
       "'Java'"
      ]
     },
     "execution_count": 6,
     "metadata": {},
     "output_type": "execute_result"
    }
   ],
   "source": [
    "person2 = Admission(name = \"Johnny\", school = \"Cool school\", program = \"Java\")\n",
    "person2.program"
   ]
  },
  {
   "cell_type": "code",
   "execution_count": 6,
   "id": "419c31bd",
   "metadata": {},
   "outputs": [
    {
     "data": {
      "text/plain": [
       "Student(name = Marcus, age = 43, type_of_study = Full-time, Pass = True, school = STI)"
      ]
     },
     "execution_count": 6,
     "metadata": {},
     "output_type": "execute_result"
    }
   ],
   "source": [
    "class Student:\n",
    "    def __init__(self, name, age, type_of_study, Pass, school):\n",
    "        self.name = name\n",
    "        self.age = age\n",
    "        self.type_of_study = type_of_study\n",
    "        self.Pass = Pass\n",
    "        self.school = school\n",
    "\n",
    "    def study(self):\n",
    "        print(f\"{self.name} is studying {self.type_of_study} at {self.school}\")\n",
    "\n",
    "    def __repr__(self):\n",
    "        return f\"Student(name = {self.name}, age = {self.age}, type_of_study = {self.type_of_study}, Pass = {self.Pass}, school = {self.school})\"\n",
    "\n",
    "\n",
    "student1 = Student(\"Christoffer\", 37, \"Full-time\", True, \"STI\",)\n",
    "student2 = Student(\"Marcus\", 43, \"Full-time\", True, \"STI\",)\n",
    "student3 = Student(\"Karin\", 37, \"None\", False, \"None\",)\n",
    "\n",
    "student2"
   ]
  },
  {
   "cell_type": "code",
   "execution_count": 8,
   "id": "177c5708",
   "metadata": {},
   "outputs": [
    {
     "name": "stdout",
     "output_type": "stream",
     "text": [
      "This school contains of Christoffer, Marcus, Karin\n",
      "The ages are: 37, 43, 37\n",
      "The types of study are: Full-time, Full-time, None\n",
      "Pass status: True, True, False\n",
      "The schools are: STI, STI, None\n",
      "This means that Karin is falsely input as a student because she did not pass and is not studying at any school.\n"
     ]
    },
    {
     "data": {
      "text/plain": [
       "Student(name = Karin, age = 37, type_of_study = None, Pass = False, school = None)"
      ]
     },
     "execution_count": 8,
     "metadata": {},
     "output_type": "execute_result"
    }
   ],
   "source": [
    "print(f\"This school contains of {student1.name}, {student2.name}, {student3.name}\")\n",
    "print(f\"The ages are: {student1.age}, {student2.age}, {student3.age}\")\n",
    "print(f\"The types of study are: {student1.type_of_study}, {student2.type_of_study}, {student3.type_of_study}\")\n",
    "print(f\"Pass status: {student1.Pass}, {student2.Pass}, {student3.Pass}\")\n",
    "print(f\"The schools are: {student1.school}, {student2.school}, {student3.school}\")\n",
    "print(\"This means that Karin is falsely input as a student because she did not pass and is not studying at any school.\")\n",
    "\n",
    "student3"
   ]
  },
  {
   "cell_type": "markdown",
   "id": "42b267d0",
   "metadata": {},
   "source": []
  }
 ],
 "metadata": {
  "kernelspec": {
   "display_name": "Python 3",
   "language": "python",
   "name": "python3"
  },
  "language_info": {
   "codemirror_mode": {
    "name": "ipython",
    "version": 3
   },
   "file_extension": ".py",
   "mimetype": "text/x-python",
   "name": "python",
   "nbconvert_exporter": "python",
   "pygments_lexer": "ipython3",
   "version": "3.12.10"
  }
 },
 "nbformat": 4,
 "nbformat_minor": 5
}
