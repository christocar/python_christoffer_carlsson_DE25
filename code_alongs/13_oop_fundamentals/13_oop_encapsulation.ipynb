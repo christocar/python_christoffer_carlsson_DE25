{
 "cells": [
  {
   "cell_type": "markdown",
   "id": "7772b18c",
   "metadata": {},
   "source": [
    "# OOP encapsulation\n",
    "- information hiding\n",
    "- user don't need to know underlying how it works\n",
    "- for example we can hide validation - e.g. proper age for a person\n",
    "- user of your class needs to know how to use it - i.e. which methods and attributes can be used\n",
    "##### In general\n",
    "- one way to do encapsulation is to use private attributes and private methods\n",
    "    - these can't be accessed from outside the class\n",
    "\n",
    "- however in python there is no such thing as private\n",
    "- in python - private by convention using a underscore prefix"
   ]
  },
  {
   "cell_type": "code",
   "execution_count": 1,
   "id": "795dd000",
   "metadata": {},
   "outputs": [
    {
     "data": {
      "text/plain": [
       "('Kokchun', 34)"
      ]
     },
     "execution_count": 1,
     "metadata": {},
     "output_type": "execute_result"
    }
   ],
   "source": [
    "class Person:\n",
    "    def __init__(self, name, age):\n",
    "        self.name = name\n",
    "        self.age = age\n",
    "\n",
    "p1 = Person(\"Kokchun\", 34)\n",
    "p1.name, p1.age"
   ]
  },
  {
   "cell_type": "code",
   "execution_count": 2,
   "id": "5723b87f",
   "metadata": {},
   "outputs": [
    {
     "data": {
      "text/plain": [
       "-5"
      ]
     },
     "execution_count": 2,
     "metadata": {},
     "output_type": "execute_result"
    }
   ],
   "source": [
    "p2 = Person(\"Ada\", -5)\n",
    "p2.age"
   ]
  },
  {
   "cell_type": "code",
   "execution_count": 14,
   "id": "87c39c07",
   "metadata": {},
   "outputs": [
    {
     "data": {
      "text/plain": [
       "'Beda'"
      ]
     },
     "execution_count": 14,
     "metadata": {},
     "output_type": "execute_result"
    }
   ],
   "source": [
    "# python programmers know that underscore means \"private\" by convention\n",
    "p3._name # you should not do this but you can"
   ]
  },
  {
   "cell_type": "code",
   "execution_count": 16,
   "id": "907ae37c",
   "metadata": {},
   "outputs": [
    {
     "name": "stdout",
     "output_type": "stream",
     "text": [
      "age must be between 0 and 124\n"
     ]
    },
    {
     "data": {
      "text/plain": [
       "Person('Eda', 5)"
      ]
     },
     "execution_count": 16,
     "metadata": {},
     "output_type": "execute_result"
    }
   ],
   "source": [
    "class Person:\n",
    "    def __init__(self, name, age):\n",
    "        self._name = name\n",
    "        self._age = age\n",
    "\n",
    "        # issue: age can be set to invalid value after initialization\n",
    "        if not (0 <= age < 125):\n",
    "            raise ValueError(\"age must be between 0 and 124\")\n",
    "\n",
    "        self._age = age\n",
    "\n",
    "    def __repr__(self):\n",
    "        return f\"Person('{self._name}', {self._age})\"\n",
    "\n",
    "try:\n",
    "    p3 = Person(\"Beda\", -3)\n",
    "except ValueError as err:\n",
    "    print(err)\n",
    "\n",
    "p5 = Person(\"Eda\", 5)\n",
    "p5"
   ]
  },
  {
   "cell_type": "code",
   "execution_count": 15,
   "id": "3bdc1c68",
   "metadata": {},
   "outputs": [
    {
     "data": {
      "text/plain": [
       "-5"
      ]
     },
     "execution_count": 15,
     "metadata": {},
     "output_type": "execute_result"
    }
   ],
   "source": [
    "# this is not good, but okay because validation happens only in __init__\n",
    "p5._age = -5\n",
    "p5._age"
   ]
  },
  {
   "cell_type": "markdown",
   "id": "efbd41de",
   "metadata": {},
   "source": [
    "## property\n",
    "- getter -> gets a value\n",
    "- setter -> sets a value\n",
    "- if only getter = read only @property\n",
    "\n",
    "##### idea: put in validation code into setter -> encapsulated validation code"
   ]
  },
  {
   "cell_type": "code",
   "execution_count": 17,
   "id": "29b78c9d",
   "metadata": {},
   "outputs": [
    {
     "data": {
      "text/plain": [
       "8"
      ]
     },
     "execution_count": 17,
     "metadata": {},
     "output_type": "execute_result"
    }
   ],
   "source": [
    "class Person:\n",
    "    def __init__(self, name, age):\n",
    "        self._name = name\n",
    "        self._age = age\n",
    "\n",
    "        # issue: age can be set to invalid value after initialization\n",
    "        if not (0 <= age < 125):\n",
    "            raise ValueError(\"age must be between 0 and 124\")\n",
    "\n",
    "        self._age = age\n",
    "\n",
    "    # a decorator - it gives a function more functionality\n",
    "    # makes it into a property (getter and setter)\n",
    "    @property\n",
    "    def age(self):\n",
    "        return self._age\n",
    "\n",
    "    def __repr__(self):\n",
    "        return f\"Person('{self._name}', {self._age})\"\n",
    "\n",
    "p6 = Person(\"Bibbi\", 8)\n",
    "p6.age"
   ]
  },
  {
   "cell_type": "markdown",
   "id": "4c470254",
   "metadata": {},
   "source": [
    "## implementing setter"
   ]
  },
  {
   "cell_type": "code",
   "execution_count": 33,
   "id": "169cedd6",
   "metadata": {},
   "outputs": [
    {
     "name": "stdout",
     "output_type": "stream",
     "text": [
      "age setter called\n",
      "age getter called\n"
     ]
    },
    {
     "data": {
      "text/plain": [
       "8"
      ]
     },
     "execution_count": 33,
     "metadata": {},
     "output_type": "execute_result"
    }
   ],
   "source": [
    "class Person:\n",
    "    def __init__(self, name, age):\n",
    "        self._name = name\n",
    "        self._age = age\n",
    "\n",
    "        self.age = age\n",
    "\n",
    "    # a decorator - it gives a function more functionality\n",
    "    # makes it into a property (getter and setter)\n",
    "    @property\n",
    "    def age(self):\n",
    "        print(\"age getter called\")\n",
    "        return self._age\n",
    "\n",
    "    @age.setter\n",
    "    def age(self, value):\n",
    "        print(\"age setter called\")\n",
    "        self._age = value\n",
    "        if not (0 <= value < 125):\n",
    "            raise ValueError(f\"age must be between 0 and 124, not {value}\")\n",
    "\n",
    "    def __repr__(self):\n",
    "        return f\"Person('{self._name}', {self._age})\"\n",
    "\n",
    "\n",
    "# when instatiating Person - we use the age setter\n",
    "p7 = Person(\"Bobbo\", 8)\n",
    "# use the age getter\n",
    "p7.age"
   ]
  },
  {
   "cell_type": "code",
   "execution_count": 34,
   "id": "87affae3",
   "metadata": {},
   "outputs": [
    {
     "name": "stdout",
     "output_type": "stream",
     "text": [
      "age setter called\n"
     ]
    },
    {
     "ename": "ValueError",
     "evalue": "age must be between 0 and 124, not -7",
     "output_type": "error",
     "traceback": [
      "\u001b[31m---------------------------------------------------------------------------\u001b[39m",
      "\u001b[31mValueError\u001b[39m                                Traceback (most recent call last)",
      "\u001b[36mCell\u001b[39m\u001b[36m \u001b[39m\u001b[32mIn[34]\u001b[39m\u001b[32m, line 1\u001b[39m\n\u001b[32m----> \u001b[39m\u001b[32m1\u001b[39m p7 = \u001b[43mPerson\u001b[49m\u001b[43m(\u001b[49m\u001b[33;43m\"\u001b[39;49m\u001b[33;43mBobbo\u001b[39;49m\u001b[33;43m\"\u001b[39;49m\u001b[43m,\u001b[49m\u001b[43m \u001b[49m\u001b[43m-\u001b[49m\u001b[32;43m7\u001b[39;49m\u001b[43m)\u001b[49m\n\u001b[32m      2\u001b[39m p7\n",
      "\u001b[36mCell\u001b[39m\u001b[36m \u001b[39m\u001b[32mIn[33]\u001b[39m\u001b[32m, line 6\u001b[39m, in \u001b[36mPerson.__init__\u001b[39m\u001b[34m(self, name, age)\u001b[39m\n\u001b[32m      3\u001b[39m \u001b[38;5;28mself\u001b[39m._name = name\n\u001b[32m      4\u001b[39m \u001b[38;5;28mself\u001b[39m._age = age\n\u001b[32m----> \u001b[39m\u001b[32m6\u001b[39m \u001b[38;5;28;43mself\u001b[39;49m\u001b[43m.\u001b[49m\u001b[43mage\u001b[49m = age\n",
      "\u001b[36mCell\u001b[39m\u001b[36m \u001b[39m\u001b[32mIn[33]\u001b[39m\u001b[32m, line 20\u001b[39m, in \u001b[36mPerson.age\u001b[39m\u001b[34m(self, value)\u001b[39m\n\u001b[32m     18\u001b[39m \u001b[38;5;28mself\u001b[39m._age = value\n\u001b[32m     19\u001b[39m \u001b[38;5;28;01mif\u001b[39;00m \u001b[38;5;129;01mnot\u001b[39;00m (\u001b[32m0\u001b[39m <= value < \u001b[32m125\u001b[39m):\n\u001b[32m---> \u001b[39m\u001b[32m20\u001b[39m     \u001b[38;5;28;01mraise\u001b[39;00m \u001b[38;5;167;01mValueError\u001b[39;00m(\u001b[33mf\u001b[39m\u001b[33m\"\u001b[39m\u001b[33mage must be between 0 and 124, not \u001b[39m\u001b[38;5;132;01m{\u001b[39;00mvalue\u001b[38;5;132;01m}\u001b[39;00m\u001b[33m\"\u001b[39m)\n",
      "\u001b[31mValueError\u001b[39m: age must be between 0 and 124, not -7"
     ]
    }
   ],
   "source": [
    "p7 = Person(\"Bobbo\", -7)\n",
    "p7"
   ]
  },
  {
   "cell_type": "markdown",
   "id": "39676b3a",
   "metadata": {},
   "source": []
  }
 ],
 "metadata": {
  "kernelspec": {
   "display_name": "Python 3",
   "language": "python",
   "name": "python3"
  },
  "language_info": {
   "codemirror_mode": {
    "name": "ipython",
    "version": 3
   },
   "file_extension": ".py",
   "mimetype": "text/x-python",
   "name": "python",
   "nbconvert_exporter": "python",
   "pygments_lexer": "ipython3",
   "version": "3.12.10"
  }
 },
 "nbformat": 4,
 "nbformat_minor": 5
}
