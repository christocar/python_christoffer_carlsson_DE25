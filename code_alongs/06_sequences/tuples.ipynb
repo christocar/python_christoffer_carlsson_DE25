{
 "cells": [
  {
   "cell_type": "markdown",
   "id": "0fdb3dfe",
   "metadata": {},
   "source": [
    "# Tuples"
   ]
  },
  {
   "cell_type": "markdown",
   "id": "1349983d",
   "metadata": {},
   "source": [
    "## bra att använda vid listor med värden som inte ska ändras. T.ex kordinater, RGB värden för färger osv. Statiska värden."
   ]
  },
  {
   "cell_type": "code",
   "execution_count": 1,
   "id": "3e7e3b39",
   "metadata": {},
   "outputs": [
    {
     "data": {
      "text/plain": [
       "('banana', 1, 2.5, True)"
      ]
     },
     "execution_count": 1,
     "metadata": {},
     "output_type": "execute_result"
    }
   ],
   "source": [
    "mixed_tuple = (\"banana\", 1, 2.5, True)\n",
    "mixed_tuple"
   ]
  },
  {
   "cell_type": "code",
   "execution_count": 2,
   "id": "05be2060",
   "metadata": {},
   "outputs": [
    {
     "data": {
      "text/plain": [
       "([1, 2], [2, 5])"
      ]
     },
     "execution_count": 2,
     "metadata": {},
     "output_type": "execute_result"
    }
   ],
   "source": [
    "coordinates = ([1,2], [2,5])\n",
    "coordinates"
   ]
  },
  {
   "cell_type": "code",
   "execution_count": 3,
   "id": "c3893de2",
   "metadata": {},
   "outputs": [
    {
     "data": {
      "text/plain": [
       "([50, 2], [2, 5])"
      ]
     },
     "execution_count": 3,
     "metadata": {},
     "output_type": "execute_result"
    }
   ],
   "source": [
    "coordinates [0] [0] = 50\n",
    "coordinates"
   ]
  },
  {
   "cell_type": "markdown",
   "id": "dc854c26",
   "metadata": {},
   "source": [
    "## tuple unpacking"
   ]
  },
  {
   "cell_type": "code",
   "execution_count": 5,
   "id": "83c561af",
   "metadata": {},
   "outputs": [
    {
     "data": {
      "text/plain": [
       "(1, 2, 3)"
      ]
     },
     "execution_count": 5,
     "metadata": {},
     "output_type": "execute_result"
    }
   ],
   "source": [
    "x,y,z = (1,2,3)\n",
    "x,y,z"
   ]
  },
  {
   "cell_type": "code",
   "execution_count": 6,
   "id": "4ddbb93e",
   "metadata": {},
   "outputs": [
    {
     "name": "stdout",
     "output_type": "stream",
     "text": [
      "x = 2, y = 1\n"
     ]
    }
   ],
   "source": [
    "x, y = y, x\n",
    "print(f\"{x = }, {y = }\")"
   ]
  },
  {
   "cell_type": "code",
   "execution_count": null,
   "id": "043db7a1",
   "metadata": {},
   "outputs": [],
   "source": []
  }
 ],
 "metadata": {
  "kernelspec": {
   "display_name": "python_christoffer_carlsson_DE25 (3.12.10)",
   "language": "python",
   "name": "python3"
  },
  "language_info": {
   "codemirror_mode": {
    "name": "ipython",
    "version": 3
   },
   "file_extension": ".py",
   "mimetype": "text/x-python",
   "name": "python",
   "nbconvert_exporter": "python",
   "pygments_lexer": "ipython3",
   "version": "3.12.10"
  }
 },
 "nbformat": 4,
 "nbformat_minor": 5
}
