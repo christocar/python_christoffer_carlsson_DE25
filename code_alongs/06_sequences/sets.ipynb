{
 "cells": [
  {
   "cell_type": "markdown",
   "id": "621c13b3",
   "metadata": {},
   "source": [
    "# Sets"
   ]
  },
  {
   "cell_type": "code",
   "execution_count": 4,
   "id": "efb3afcc",
   "metadata": {},
   "outputs": [
    {
     "data": {
      "text/plain": [
       "['anna@example.com',\n",
       " 'bob@example.com',\n",
       " 'carla@example.com',\n",
       " 'anna@example.com',\n",
       " 'bob@example.com']"
      ]
     },
     "execution_count": 4,
     "metadata": {},
     "output_type": "execute_result"
    }
   ],
   "source": [
    "emails = [\"anna@example.com\", \"bob@example.com\", \"carla@example.com\", \"anna@example.com\", \"bob@example.com\"]\n",
    "\n",
    "emails"
   ]
  },
  {
   "cell_type": "code",
   "execution_count": 5,
   "id": "96c86097",
   "metadata": {},
   "outputs": [
    {
     "data": {
      "text/plain": [
       "{'anna@example.com', 'bob@example.com', 'carla@example.com'}"
      ]
     },
     "execution_count": 5,
     "metadata": {},
     "output_type": "execute_result"
    }
   ],
   "source": [
    "set(emails)"
   ]
  },
  {
   "cell_type": "code",
   "execution_count": 7,
   "id": "d92121a0",
   "metadata": {},
   "outputs": [
    {
     "data": {
      "text/plain": [
       "['anna@example.com', 'bob@example.com', 'carla@example.com']"
      ]
     },
     "execution_count": 7,
     "metadata": {},
     "output_type": "execute_result"
    }
   ],
   "source": [
    "list(set(emails))"
   ]
  },
  {
   "cell_type": "markdown",
   "id": "e657d6cc",
   "metadata": {},
   "source": [
    "## mathematical set operations\n",
    "\n",
    "- union, sammanslagning av flera olika värden utan dubbletter\n",
    "- intersection, gemensamma värden\n",
    "- except"
   ]
  },
  {
   "cell_type": "code",
   "execution_count": 8,
   "id": "8de93bac",
   "metadata": {},
   "outputs": [
    {
     "data": {
      "text/plain": [
       "{'eva', 'lars', 'peter'}"
      ]
     },
     "execution_count": 8,
     "metadata": {},
     "output_type": "execute_result"
    }
   ],
   "source": [
    "first_month_customers = {\"karin\", \"lars\", \"eva\", \"peter\"}\n",
    "second_month_customers = {\"lars\", \"eva\", \"peter\", \"maria\", \"johan\"}\n",
    "\n",
    "returning_customers = first_month_customers.intersection(second_month_customers)\n",
    "returning_customers"
   ]
  },
  {
   "cell_type": "code",
   "execution_count": 9,
   "id": "038710e3",
   "metadata": {},
   "outputs": [
    {
     "data": {
      "text/plain": [
       "{'eva', 'johan', 'karin', 'lars', 'maria', 'peter'}"
      ]
     },
     "execution_count": 9,
     "metadata": {},
     "output_type": "execute_result"
    }
   ],
   "source": [
    "all_customers = first_month_customers.union(second_month_customers)\n",
    "all_customers"
   ]
  },
  {
   "cell_type": "markdown",
   "id": "82ab4456",
   "metadata": {},
   "source": [
    "combine union and except intersection"
   ]
  },
  {
   "cell_type": "code",
   "execution_count": 13,
   "id": "346fdaec",
   "metadata": {},
   "outputs": [
    {
     "data": {
      "text/plain": [
       "{'johan', 'karin', 'maria'}"
      ]
     },
     "execution_count": 13,
     "metadata": {},
     "output_type": "execute_result"
    }
   ],
   "source": [
    "one_time_customers = first_month_customers.union(second_month_customers) - first_month_customers.intersection(second_month_customers)\n",
    "one_time_customers"
   ]
  }
 ],
 "metadata": {
  "kernelspec": {
   "display_name": "python_christoffer_carlsson_DE25 (3.12.10)",
   "language": "python",
   "name": "python3"
  },
  "language_info": {
   "codemirror_mode": {
    "name": "ipython",
    "version": 3
   },
   "file_extension": ".py",
   "mimetype": "text/x-python",
   "name": "python",
   "nbconvert_exporter": "python",
   "pygments_lexer": "ipython3",
   "version": "3.12.10"
  }
 },
 "nbformat": 4,
 "nbformat_minor": 5
}
