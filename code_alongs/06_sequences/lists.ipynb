{
 "cells": [
  {
   "cell_type": "markdown",
   "id": "30fd8054",
   "metadata": {},
   "source": [
    "# Lists\n",
    "- one of the collection data type/iterables\n",
    "- used for storing several items in a variable\n",
    "- for collection data type, we will be learning\n",
    "    - characteristics\n",
    "    - available operation"
   ]
  },
  {
   "cell_type": "markdown",
   "id": "b62c88c0",
   "metadata": {},
   "source": [
    "## bra att använda vid dynamiska värden. Till exempel en shoppinglista."
   ]
  },
  {
   "cell_type": "code",
   "execution_count": 12,
   "id": "3fbbcfc9",
   "metadata": {},
   "outputs": [
    {
     "data": {
      "text/plain": [
       "['Antiques Roadshow', 'The Repair Shop', 'Celebrity Antiques Road Trip']"
      ]
     },
     "execution_count": 12,
     "metadata": {},
     "output_type": "execute_result"
    }
   ],
   "source": [
    "tv_shows = [\"Antiques Roadshow\", \"The Repair Shop\", \"Celebrity Antiques Road Trip\"]\n",
    "\n",
    "tv_shows\n"
   ]
  },
  {
   "cell_type": "code",
   "execution_count": 2,
   "id": "06041063",
   "metadata": {},
   "outputs": [
    {
     "data": {
      "text/plain": [
       "'Antiques Roadshow'"
      ]
     },
     "execution_count": 2,
     "metadata": {},
     "output_type": "execute_result"
    }
   ],
   "source": [
    "tv_shows[0]  # First item"
   ]
  },
  {
   "cell_type": "code",
   "execution_count": 3,
   "id": "80a845bd",
   "metadata": {},
   "outputs": [
    {
     "data": {
      "text/plain": [
       "'o'"
      ]
     },
     "execution_count": 3,
     "metadata": {},
     "output_type": "execute_result"
    }
   ],
   "source": [
    "tv_shows[0] [-2]"
   ]
  },
  {
   "cell_type": "code",
   "execution_count": 4,
   "id": "ab487cd6",
   "metadata": {},
   "outputs": [
    {
     "data": {
      "text/plain": [
       "'Antiques Roadshow'"
      ]
     },
     "execution_count": 4,
     "metadata": {},
     "output_type": "execute_result"
    }
   ],
   "source": [
    "tv_shows[-3]  # First item using negative index"
   ]
  },
  {
   "cell_type": "markdown",
   "id": "8d68be1e",
   "metadata": {},
   "source": [
    "## Iterate through list wit for loop"
   ]
  },
  {
   "cell_type": "code",
   "execution_count": 6,
   "id": "ad2aac4f",
   "metadata": {},
   "outputs": [
    {
     "name": "stdout",
     "output_type": "stream",
     "text": [
      "Antiques Roadshow\n",
      "The Repair Shop\n",
      "Celebrity Antiques Road Trip\n"
     ]
    }
   ],
   "source": [
    "for tv_show in tv_shows:\n",
    "    print(tv_show)"
   ]
  },
  {
   "cell_type": "code",
   "execution_count": 9,
   "id": "96c177b9",
   "metadata": {},
   "outputs": [
    {
     "name": "stdout",
     "output_type": "stream",
     "text": [
      "1 Antiques Roadshow\n",
      "2 The Repair Shop\n",
      "3 Celebrity Antiques Road Trip\n"
     ]
    }
   ],
   "source": [
    "for i, tv_show in enumerate(tv_shows, 1):\n",
    "    print(i, tv_show)"
   ]
  },
  {
   "cell_type": "markdown",
   "id": "5ab008cc",
   "metadata": {},
   "source": [
    "## mutate list"
   ]
  },
  {
   "cell_type": "code",
   "execution_count": 13,
   "id": "351ab0dc",
   "metadata": {},
   "outputs": [
    {
     "data": {
      "text/plain": [
       "['Antiques Roadshow', 'The Repair Shop', 'bjornes magasin']"
      ]
     },
     "execution_count": 13,
     "metadata": {},
     "output_type": "execute_result"
    }
   ],
   "source": [
    "tv_shows[-1] = \"bjornes magasin\"\n",
    "tv_shows"
   ]
  },
  {
   "cell_type": "code",
   "execution_count": 14,
   "id": "a0081fc2",
   "metadata": {},
   "outputs": [],
   "source": [
    "tv_shows.sort()"
   ]
  },
  {
   "cell_type": "code",
   "execution_count": 15,
   "id": "dbb49471",
   "metadata": {},
   "outputs": [
    {
     "data": {
      "text/plain": [
       "['Antiques Roadshow', 'The Repair Shop', 'bjornes magasin']"
      ]
     },
     "execution_count": 15,
     "metadata": {},
     "output_type": "execute_result"
    }
   ],
   "source": [
    "tv_shows"
   ]
  },
  {
   "cell_type": "markdown",
   "id": "50aa656d",
   "metadata": {},
   "source": [
    "## list comprehension"
   ]
  },
  {
   "cell_type": "code",
   "execution_count": 16,
   "id": "cc421206",
   "metadata": {},
   "outputs": [
    {
     "data": {
      "text/plain": [
       "[0, 1, 8, 27, 64, 125, 216, 343, 512, 729]"
      ]
     },
     "execution_count": 16,
     "metadata": {},
     "output_type": "execute_result"
    }
   ],
   "source": [
    "cubes = [x**3 for x in range(10)]\n",
    "cubes"
   ]
  },
  {
   "cell_type": "code",
   "execution_count": 17,
   "id": "274e4beb",
   "metadata": {},
   "outputs": [
    {
     "data": {
      "text/plain": [
       "[36, 49, 64, 81]"
      ]
     },
     "execution_count": 17,
     "metadata": {},
     "output_type": "execute_result"
    }
   ],
   "source": [
    "[x**2 for x in range(10) if x**2 > 25\n",
    "]"
   ]
  },
  {
   "cell_type": "markdown",
   "id": "bbdaba06",
   "metadata": {},
   "source": [
    "## plot graph"
   ]
  },
  {
   "cell_type": "code",
   "execution_count": 19,
   "id": "7fb4c682",
   "metadata": {},
   "outputs": [
    {
     "data": {
      "text/plain": [
       "[0, 1, 2, 3, 4, 5, 6, 7, 8, 9]"
      ]
     },
     "execution_count": 19,
     "metadata": {},
     "output_type": "execute_result"
    }
   ],
   "source": [
    "import matplotlib.pyplot as plt\n",
    "\n",
    "x = list(range(10))\n",
    "x"
   ]
  },
  {
   "cell_type": "code",
   "execution_count": 21,
   "id": "adb494c9",
   "metadata": {},
   "outputs": [
    {
     "data": {
      "text/plain": [
       "[2, 4, 6, 8, 10, 12, 14, 16, 18, 20]"
      ]
     },
     "execution_count": 21,
     "metadata": {},
     "output_type": "execute_result"
    }
   ],
   "source": [
    "k = 2\n",
    "m = 2\n",
    "y = [k*x + m for x in x]\n",
    "y"
   ]
  },
  {
   "cell_type": "code",
   "execution_count": 23,
   "id": "d8e002c7",
   "metadata": {},
   "outputs": [
    {
     "data": {
      "text/plain": [
       "Text(0.5, 1.0, 'Plot y = 2x + 2')"
      ]
     },
     "execution_count": 23,
     "metadata": {},
     "output_type": "execute_result"
    },
    {
     "data": {
      "image/png": "[encoded data removed]",
      "text/plain": [
       "<Figure size 640x480 with 1 Axes>"
      ]
     },
     "metadata": {},
     "output_type": "display_data"
    }
   ],
   "source": [
    "plt.plot(x, y)\n",
    "plt.title(\"Plot y = 2x + 2\")"
   ]
  }
 ],
 "metadata": {
  "kernelspec": {
   "display_name": "python_christoffer_carlsson_DE25 (3.12.10)",
   "language": "python",
   "name": "python3"
  },
  "language_info": {
   "codemirror_mode": {
    "name": "ipython",
    "version": 3
   },
   "file_extension": ".py",
   "mimetype": "text/x-python",
   "name": "python",
   "nbconvert_exporter": "python",
   "pygments_lexer": "ipython3",
   "version": "3.12.10"
  }
 },
 "nbformat": 4,
 "nbformat_minor": 5
}
