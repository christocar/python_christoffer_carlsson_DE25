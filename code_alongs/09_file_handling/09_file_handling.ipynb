{
 "cells": [
  {
   "cell_type": "markdown",
   "id": "c91e2c59",
   "metadata": {},
   "source": [
    "# file handling\n",
    "- read text files (.txt)\n",
    "- we need to\n",
    "    - read the file\n",
    "    - clean the contents\n",
    "    - write the clean contents to a new text file\n",
    "- we focus now on text/string contents"
   ]
  },
  {
   "cell_type": "markdown",
   "id": "ec5e1361",
   "metadata": {},
   "source": [
    "Read file"
   ]
  },
  {
   "cell_type": "markdown",
   "id": "4a318315",
   "metadata": {},
   "source": [
    "##### open the file directly"
   ]
  },
  {
   "cell_type": "code",
   "execution_count": null,
   "id": "db148304",
   "metadata": {},
   "outputs": [
    {
     "name": "stdout",
     "output_type": "stream",
     "text": [
      "<_io.TextIOWrapper name='test.txt' mode='r' encoding='cp1252'>\n",
      "christoffer\n",
      "carlsson\n",
      "de25\n",
      "\n"
     ]
    }
   ],
   "source": [
    "#open the file\n",
    "f = open(\"test.txt\", \"r\") #the first arguement is a path\n",
    "print(f) #print the file object\n",
    "\n",
    "#save the contents of the file to a variable\n",
    "text = f.read() #.read() reads the entire file\n",
    "print(text) #print the contents of the file\n",
    "f.close() #close the file"
   ]
  },
  {
   "cell_type": "markdown",
   "id": "6e1438f2",
   "metadata": {},
   "source": [
    "##### open the file with statement"
   ]
  },
  {
   "cell_type": "code",
   "execution_count": 5,
   "id": "6d711e41",
   "metadata": {},
   "outputs": [
    {
     "name": "stdout",
     "output_type": "stream",
     "text": [
      "christoffer\n",
      "carlsson\n",
      "de25\n",
      "\n"
     ]
    }
   ],
   "source": [
    "with open(\"test.txt\", \"r\") as f: #the first arguement is a path\n",
    "    text = f.read() #.read() reads the entire file\n",
    "    \n",
    "print(text) #print the contents of the file"
   ]
  },
  {
   "cell_type": "markdown",
   "id": "91704a2a",
   "metadata": {},
   "source": [
    "##### clean the quotes file"
   ]
  },
  {
   "cell_type": "code",
   "execution_count": 6,
   "id": "72a886e1",
   "metadata": {},
   "outputs": [],
   "source": [
    "# we will use the regular expression package to clean string contents\n",
    "import re"
   ]
  },
  {
   "cell_type": "code",
   "execution_count": 7,
   "id": "7364d3d9",
   "metadata": {},
   "outputs": [],
   "source": [
    "# create an empty list for saving quotes\n",
    "quotes = []\n",
    "\n",
    "# initiate a quote number\n",
    "i = 1"
   ]
  },
  {
   "cell_type": "code",
   "execution_count": 10,
   "id": "3e04e3c2",
   "metadata": {},
   "outputs": [
    {
     "name": "stdout",
     "output_type": "stream",
     "text": [
      "<_io.TextIOWrapper name='quotes.txt' mode='r' encoding='cp1252'>\n",
      "  If     we     knew what it was      we were doing, it would not be called research,          would it?     - Albert Einstein\n",
      "\n",
      "Time is a drug. Too       much of it kills you.  -  Terry Pratchett\n",
      "\n",
      "\n",
      " An expert is a person who       has made all the mistakes that           can be made in a          very narrow field - Niels Bohr\n",
      "\n",
      "   Everything must be made as simple as possible. But not simpler. - Albert Einstein     \n",
      "\n",
      "\n",
      "  Nothing in life                is to be feared, it is only to be understood. Now is the time to understand more, so that we may fear less. - Marie  Curie  \n",
      "\n",
      "If I have seen further     it is by standing on the shoulders of Giants. - Isaac Newton\n"
     ]
    }
   ],
   "source": [
    "# open the file\n",
    "# comparing the use of absolut path and relative paths\n",
    "\n",
    "# print out all the contents at once\n",
    "with open(\"quotes.txt\", \"r\") as f_read:\n",
    "    quotes = f_read.read()\n",
    "\n",
    "print(f_read) # what you can see from just opening the file\n",
    "print(quotes) # the entire contents of the file"
   ]
  },
  {
   "cell_type": "code",
   "execution_count": null,
   "id": "271c3460",
   "metadata": {},
   "outputs": [
    {
     "name": "stdout",
     "output_type": "stream",
     "text": [
      "If we knew what it was we were doing, it would not be called research, would it? - Albert Einstein\n",
      "\n",
      "Time is a drug. Too much of it kills you. - Terry Pratchett\n",
      "\n",
      "\n",
      "An expert is a person who has made all the mistakes that can be made in a very narrow field - Niels Bohr\n",
      "\n",
      "Everything must be made as simple as possible. But not simpler. - Albert Einstein\n",
      "\n",
      "\n",
      "Nothing in life is to be feared, it is only to be understood. Now is the time to understand more, so that we may fear less. - Marie Curie\n",
      "\n",
      "If I have seen further it is by standing on the shoulders of Giants. - Isaac Newton\n"
     ]
    }
   ],
   "source": [
    "\n",
    "# loop thorugh lines in the file contents\n",
    "with open(\"quotes.txt\", \"r\") as f_read: # the first arguement is a path\n",
    "    for quote in f_read: # loop through each line in the file\n",
    "        # data cleaning\n",
    "        quote = quote.strip(\" \\n\") # replace the code with a modified version of itself\n",
    "        quote = re.sub(\" +\", \" \", quote) # replace multiple spaces with a single space\n",
    "        \n",
    "\n",
    "\n",
    "        print(quote) # print each line in the file"
   ]
  },
  {
   "cell_type": "code",
   "execution_count": 16,
   "id": "a651a2a9",
   "metadata": {},
   "outputs": [
    {
     "name": "stdout",
     "output_type": "stream",
     "text": [
      "If we knew what it was we were doing, it would not be called research, would it? - Albert Einstein\n",
      "\n",
      "Time is a drug. Too much of it kills you. - Terry Pratchett\n",
      "\n",
      "\n",
      "An expert is a person who has made all the mistakes that can be made in a very narrow field - Niels Bohr\n",
      "\n",
      "Everything must be made as simple as possible. But not simpler. - Albert Einstein\n",
      "\n",
      "\n",
      "Nothing in life is to be feared, it is only to be understood. Now is the time to understand more, so that we may fear less. - Marie Curie\n",
      "\n",
      "If I have seen further it is by standing on the shoulders of Giants. - Isaac Newton\n"
     ]
    }
   ],
   "source": [
    "# open two files (one with r mode and one with w mode)\n",
    "with open(\"quotes.txt\", \"r\") as f_read, open(\"quotes_cleaned.txt\", \"w\") as f_write: # open quotes.txt for reading and quotes_cleaned.txt for writing \n",
    "    for quote in f_read: # loop through each line in the file\n",
    "        # data cleaning\n",
    "        quote = quote.strip(\" \\n\") # replace the code with a modified version of itself\n",
    "        quote = re.sub(\" +\", \" \", quote) # replace multiple spaces with a single space\n",
    "        \n",
    "        print(quote) # print each line in the file\n",
    "\n",
    "        if quote != \"\": # if the quote is not an empty string\n",
    "            f_write.write(f\"{i}. {quote}\\n\") # write the quote to the new file with a number\n",
    "            i += 1 # increment the quote number\n",
    "            "
   ]
  },
  {
   "cell_type": "code",
   "execution_count": null,
   "id": "cae7f457",
   "metadata": {},
   "outputs": [],
   "source": []
  }
 ],
 "metadata": {
  "kernelspec": {
   "display_name": "Python 3",
   "language": "python",
   "name": "python3"
  },
  "language_info": {
   "codemirror_mode": {
    "name": "ipython",
    "version": 3
   },
   "file_extension": ".py",
   "mimetype": "text/x-python",
   "name": "python",
   "nbconvert_exporter": "python",
   "pygments_lexer": "ipython3",
   "version": "3.12.10"
  }
 },
 "nbformat": 4,
 "nbformat_minor": 5
}
