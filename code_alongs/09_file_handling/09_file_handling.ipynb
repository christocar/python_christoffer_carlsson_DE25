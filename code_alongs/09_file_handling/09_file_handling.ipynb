{
 "cells": [
  {
   "cell_type": "markdown",
   "id": "c91e2c59",
   "metadata": {},
   "source": [
    "# file handling\n",
    "- read text files (.txt)\n",
    "- we need to\n",
    "    - read the file\n",
    "    - clean the contents\n",
    "    - write the clean contents to a new text file\n",
    "- we focus now on text/string contents"
   ]
  },
  {
   "cell_type": "markdown",
   "id": "ec5e1361",
   "metadata": {},
   "source": [
    "Read file"
   ]
  },
  {
   "cell_type": "markdown",
   "id": "4a318315",
   "metadata": {},
   "source": [
    "##### open the file directly"
   ]
  },
  {
   "cell_type": "code",
   "execution_count": null,
   "id": "db148304",
   "metadata": {},
   "outputs": [
    {
     "name": "stdout",
     "output_type": "stream",
     "text": [
      "<_io.TextIOWrapper name='test.txt' mode='r' encoding='cp1252'>\n",
      "christoffer\n",
      "carlsson\n",
      "de25\n",
      "\n"
     ]
    }
   ],
   "source": [
    "#open the file\n",
    "f = open(\"test.txt\", \"r\") #the first arguement is a path\n",
    "print(f) #print the file object\n",
    "\n",
    "#save the contents of the file to a variable\n",
    "text = f.read() #.read() reads the entire file\n",
    "print(text) #print the contents of the file\n",
    "f.close() #close the file"
   ]
  },
  {
   "cell_type": "markdown",
   "id": "6e1438f2",
   "metadata": {},
   "source": [
    "##### open the file with statement"
   ]
  },
  {
   "cell_type": "code",
   "execution_count": 5,
   "id": "6d711e41",
   "metadata": {},
   "outputs": [
    {
     "name": "stdout",
     "output_type": "stream",
     "text": [
      "christoffer\n",
      "carlsson\n",
      "de25\n",
      "\n"
     ]
    }
   ],
   "source": [
    "with open(\"test.txt\", \"r\") as f: #the first arguement is a path\n",
    "    text = f.read() #.read() reads the entire file\n",
    "    \n",
    "print(text) #print the contents of the file"
   ]
  },
  {
   "cell_type": "code",
   "execution_count": null,
   "id": "7364d3d9",
   "metadata": {},
   "outputs": [],
   "source": []
  }
 ],
 "metadata": {
  "kernelspec": {
   "display_name": "Python 3",
   "language": "python",
   "name": "python3"
  },
  "language_info": {
   "codemirror_mode": {
    "name": "ipython",
    "version": 3
   },
   "file_extension": ".py",
   "mimetype": "text/x-python",
   "name": "python",
   "nbconvert_exporter": "python",
   "pygments_lexer": "ipython3",
   "version": "3.12.10"
  }
 },
 "nbformat": 4,
 "nbformat_minor": 5
}
