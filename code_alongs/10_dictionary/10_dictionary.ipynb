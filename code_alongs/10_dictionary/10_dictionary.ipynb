{
 "cells": [
  {
   "cell_type": "markdown",
   "id": "a1d4b196",
   "metadata": {},
   "source": [
    "# Dictionary\n",
    "- also a collection data type. Like list, tuple and set.\n",
    "- the data is stored in key-value pairs"
   ]
  },
  {
   "cell_type": "markdown",
   "id": "02f9991f",
   "metadata": {},
   "source": [
    "##### Create a dictionary with dict() class"
   ]
  },
  {
   "cell_type": "code",
   "execution_count": 1,
   "id": "522ee7ec",
   "metadata": {},
   "outputs": [],
   "source": [
    "# instantiate a dicitionary object called person\n",
    "person = dict(\n",
    "    name = \"Christoffer\",\n",
    "    age = 37.5,\n",
    "    work = \"Data Engineer\",\n",
    "    )"
   ]
  },
  {
   "cell_type": "code",
   "execution_count": 5,
   "id": "ab1abf8f",
   "metadata": {},
   "outputs": [
    {
     "name": "stdout",
     "output_type": "stream",
     "text": [
      "Christoffer\n",
      "Data Engineer\n"
     ]
    }
   ],
   "source": [
    "# retrieve data from this dictionary\n",
    "# make use of the key for each value\n",
    "print(person[\"name\"]) # compare to indexing in a list like list_a[0]\n",
    "print(person[\"work\"])"
   ]
  },
  {
   "cell_type": "markdown",
   "id": "7a7f214d",
   "metadata": {},
   "source": [
    "##### Create a dictionary with {}"
   ]
  },
  {
   "cell_type": "code",
   "execution_count": 12,
   "id": "5376b276",
   "metadata": {},
   "outputs": [],
   "source": [
    "# Create a dictionary with {}\n",
    "# instantiate a dicitionary object called person\n",
    "person = {\n",
    "          \"name\": \"Christoffer\",\n",
    "          \"age\": 37.5,\n",
    "          \"work\": \"Data Engineer\",\n",
    "          \"interest\": [\"math\", \"python\", \"yoga\"], # the value in one key-value pair can be another collection data type\n",
    "          \"address\": {\"country\": \"Sweden\", \"city\": \"Stockholm\"} # the value in one key-value pair can be another dictionary\n",
    "         }"
   ]
  },
  {
   "cell_type": "code",
   "execution_count": null,
   "id": "a6f4d023",
   "metadata": {},
   "outputs": [
    {
     "name": "stdout",
     "output_type": "stream",
     "text": [
      "Christoffer\n",
      "Data Engineer\n"
     ]
    }
   ],
   "source": [
    "# retrieve data from this dictionary\n",
    "# make use of the key for each value\n",
    "print(person[\"name\"])\n",
    "print(person[\"work\"])"
   ]
  },
  {
   "cell_type": "code",
   "execution_count": 13,
   "id": "12413007",
   "metadata": {},
   "outputs": [
    {
     "name": "stdout",
     "output_type": "stream",
     "text": [
      "['math', 'python', 'yoga']\n",
      "{'country': 'Sweden', 'city': 'Stockholm'}\n"
     ]
    }
   ],
   "source": [
    "print(person[\"interest\"])\n",
    "print(person[\"address\"])"
   ]
  },
  {
   "cell_type": "code",
   "execution_count": 14,
   "id": "829cca15",
   "metadata": {},
   "outputs": [
    {
     "name": "stdout",
     "output_type": "stream",
     "text": [
      "math\n",
      "Sweden\n"
     ]
    }
   ],
   "source": [
    "# only print one interest\n",
    "print(person[\"interest\"][0]) # first interest\n",
    "\n",
    "# only print one address detail\n",
    "print(person[\"address\"][\"country\"])"
   ]
  },
  {
   "cell_type": "code",
   "execution_count": null,
   "id": "1dbd1d31",
   "metadata": {},
   "outputs": [],
   "source": []
  }
 ],
 "metadata": {
  "kernelspec": {
   "display_name": "Python 3",
   "language": "python",
   "name": "python3"
  },
  "language_info": {
   "codemirror_mode": {
    "name": "ipython",
    "version": 3
   },
   "file_extension": ".py",
   "mimetype": "text/x-python",
   "name": "python",
   "nbconvert_exporter": "python",
   "pygments_lexer": "ipython3",
   "version": "3.12.10"
  }
 },
 "nbformat": 4,
 "nbformat_minor": 5
}
