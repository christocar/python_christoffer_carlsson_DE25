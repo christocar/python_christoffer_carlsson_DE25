{
 "cells": [
  {
   "cell_type": "markdown",
   "id": "3d4faa29",
   "metadata": {},
   "source": [
    "# While statements\n",
    "- loop through the same block of codes for several times\n",
    "- number of looping times is determined by the condition in the code"
   ]
  },
  {
   "cell_type": "code",
   "execution_count": 1,
   "id": "d9d29921",
   "metadata": {},
   "outputs": [
    {
     "name": "stdout",
     "output_type": "stream",
     "text": [
      "0\n",
      "1\n",
      "2\n",
      "3\n",
      "4\n"
     ]
    }
   ],
   "source": [
    "i = 0\n",
    "\n",
    "while i < 5:\n",
    "    print(i)\n",
    "    i += 1\n",
    "    "
   ]
  },
  {
   "cell_type": "markdown",
   "id": "cc53a90d",
   "metadata": {},
   "source": [
    "##### example of oil leakage\n",
    "- in year 0, for beginning, we have 80 000 birds\n",
    "- due to oil leakage, 50% of birds will die every year (note that the nr of dead birds is not an absolute number)\n",
    "- when will the number of birds becom 8000?\n",
    "- in this example, we don't know about how many years need to be repeated to reach this number (8000 birds)"
   ]
  },
  {
   "cell_type": "code",
   "execution_count": 2,
   "id": "0bd29448",
   "metadata": {},
   "outputs": [
    {
     "name": "stdout",
     "output_type": "stream",
     "text": [
      "It takes 4 years for the number of birds to be less than 8000.\n"
     ]
    }
   ],
   "source": [
    "birds = 80000\n",
    "year = 0\n",
    "while birds > 8000:\n",
    "    birds = birds * 0.5\n",
    "    year += 1\n",
    "print(f\"It takes {year} years for the number of birds to be less than 8000.\")\n"
   ]
  },
  {
   "cell_type": "code",
   "execution_count": null,
   "id": "7f9704f4",
   "metadata": {},
   "outputs": [],
   "source": []
  }
 ],
 "metadata": {
  "kernelspec": {
   "display_name": "Python 3",
   "language": "python",
   "name": "python3"
  },
  "language_info": {
   "codemirror_mode": {
    "name": "ipython",
    "version": 3
   },
   "file_extension": ".py",
   "mimetype": "text/x-python",
   "name": "python",
   "nbconvert_exporter": "python",
   "pygments_lexer": "ipython3",
   "version": "3.12.10"
  }
 },
 "nbformat": 4,
 "nbformat_minor": 5
}
