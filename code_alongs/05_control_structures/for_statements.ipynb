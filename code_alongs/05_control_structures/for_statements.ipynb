{
 "cells": [
  {
   "cell_type": "markdown",
   "id": "a4ff3eae",
   "metadata": {},
   "source": [
    "# for loop\n",
    "- loop through the same block of codes for several times\n",
    "- the number of looping times is known"
   ]
  },
  {
   "cell_type": "code",
   "execution_count": 1,
   "id": "dd9f8fd8",
   "metadata": {},
   "outputs": [
    {
     "name": "stdout",
     "output_type": "stream",
     "text": [
      "0\n",
      "1\n",
      "2\n",
      "3\n",
      "4\n"
     ]
    }
   ],
   "source": [
    "for i in range(5):\n",
    "    print(i)"
   ]
  },
  {
   "cell_type": "markdown",
   "id": "02a7e0e7",
   "metadata": {},
   "source": [
    "##### range() function\n",
    "- with only one argument, like range(5),end argument\n",
    "- with three arguments, like range(1, 5, 5), start, end, step argument (hur stora hopp mellan varje siffra)"
   ]
  },
  {
   "cell_type": "code",
   "execution_count": 1,
   "id": "4f4a8bbd",
   "metadata": {},
   "outputs": [
    {
     "name": "stdout",
     "output_type": "stream",
     "text": [
      "1900\n",
      "1904\n",
      "1908\n",
      "1912\n",
      "1916\n",
      "1920\n",
      "1924\n",
      "1928\n",
      "1932\n",
      "1936\n",
      "1940\n",
      "1944\n",
      "1948\n",
      "1952\n",
      "1956\n",
      "1960\n",
      "1964\n",
      "1968\n",
      "1972\n",
      "1976\n",
      "1980\n",
      "1984\n",
      "1988\n",
      "1992\n",
      "1996\n",
      "2000\n",
      "2004\n",
      "2008\n",
      "2012\n",
      "2016\n",
      "2020\n"
     ]
    }
   ],
   "source": [
    "for i in range(1900, 2024, 4):\n",
    "    print(i)"
   ]
  },
  {
   "cell_type": "code",
   "execution_count": 2,
   "id": "989d71b0",
   "metadata": {},
   "outputs": [
    {
     "name": "stdout",
     "output_type": "stream",
     "text": [
      "0 1 2 3 4 "
     ]
    }
   ],
   "source": [
    "# change the default setting of print() not to start a new line\n",
    "for i in range(5):\n",
    "    print(i, end=\" \")"
   ]
  },
  {
   "cell_type": "markdown",
   "id": "a780f3cf",
   "metadata": {},
   "source": [
    "##### random module"
   ]
  },
  {
   "cell_type": "markdown",
   "id": "42113c71",
   "metadata": {},
   "source": [
    "##### loop through a list"
   ]
  },
  {
   "cell_type": "markdown",
   "id": "6f6a232a",
   "metadata": {},
   "source": [
    "##### example of pythonic code"
   ]
  },
  {
   "cell_type": "markdown",
   "id": "37ca529d",
   "metadata": {},
   "source": []
  }
 ],
 "metadata": {
  "kernelspec": {
   "display_name": "Python 3",
   "language": "python",
   "name": "python3"
  },
  "language_info": {
   "codemirror_mode": {
    "name": "ipython",
    "version": 3
   },
   "file_extension": ".py",
   "mimetype": "text/x-python",
   "name": "python",
   "nbconvert_exporter": "python",
   "pygments_lexer": "ipython3",
   "version": "3.12.10"
  }
 },
 "nbformat": 4,
 "nbformat_minor": 5
}
