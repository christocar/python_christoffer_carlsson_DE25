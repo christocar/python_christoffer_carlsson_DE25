{
 "cells": [
  {
   "cell_type": "markdown",
   "id": "392d875a",
   "metadata": {},
   "source": [
    "# If statements"
   ]
  },
  {
   "cell_type": "markdown",
   "id": "47907d80",
   "metadata": {},
   "source": [
    "# ett eget programm för att "
   ]
  },
  {
   "cell_type": "code",
   "execution_count": null,
   "id": "91f3d971",
   "metadata": {},
   "outputs": [],
   "source": [
    "age = int(input(\"What is your age? \"))\n",
    "\n",
    "if age <18:\n",
    "    print(\"you are a child\")"
   ]
  },
  {
   "cell_type": "markdown",
   "id": "7fbb2ff8",
   "metadata": {},
   "source": [
    "## lektion torsdag 5a if statements"
   ]
  },
  {
   "cell_type": "markdown",
   "id": "9368ab6a",
   "metadata": {},
   "source": [
    "#### Modulo operator - %"
   ]
  },
  {
   "cell_type": "code",
   "execution_count": 2,
   "id": "9eed6d67",
   "metadata": {},
   "outputs": [],
   "source": [
    "number = 5"
   ]
  },
  {
   "cell_type": "code",
   "execution_count": 4,
   "id": "22af8e79",
   "metadata": {},
   "outputs": [
    {
     "name": "stdout",
     "output_type": "stream",
     "text": [
      "It is an odd number and the value assigned to this is 5.\n"
     ]
    }
   ],
   "source": [
    "# print out wether the value of the variable number is odd or even\n",
    "if number % 2 == 0:\n",
    "    print(f\"It is an even number and the value assigned to this is {number}.\")\n",
    "else:\n",
    "    print(f\"It is an odd number and the value assigned to this is {number}.\")"
   ]
  },
  {
   "cell_type": "markdown",
   "id": "ba23e8d8",
   "metadata": {},
   "source": [
    "#### Nested if statement\n",
    "- When we have another if statement under a scenario\n",
    "- You need to think if nested if statement produces clean codes"
   ]
  },
  {
   "cell_type": "code",
   "execution_count": 9,
   "id": "c7276600",
   "metadata": {},
   "outputs": [],
   "source": [
    "number = int(input(\"Enter a number: \"))"
   ]
  },
  {
   "cell_type": "code",
   "execution_count": 10,
   "id": "731a0b97",
   "metadata": {},
   "outputs": [
    {
     "name": "stdout",
     "output_type": "stream",
     "text": [
      "this number is divisable by 5. Check if it is also divisable by 2.\n",
      "This is an odd number.\n"
     ]
    }
   ],
   "source": [
    "# if a number is divisable by 5, further check if it is also divisable by 2 (even number)\n",
    "if number % 5 == 0:\n",
    "    print(\"this number is divisable by 5. Check if it is also divisable by 2.\")\n",
    "    if number % 2 == 0:\n",
    "        print(\"This is an even number.\")\n",
    "    else:\n",
    "        print(\"This is an odd number.\")\n",
    "\n",
    "\n",
    "else:\n",
    "    print(\"This is not divisable by 5. No need to check more.\")"
   ]
  },
  {
   "cell_type": "markdown",
   "id": "08a2e9ec",
   "metadata": {},
   "source": [
    "#### One line if statement\n",
    "- you write one line if statement, usually when refractoring your original if statement with multiple lines of codes\n",
    "- you need to think about if an one line if statement can make your codes better, is it cleaner and more readable"
   ]
  },
  {
   "cell_type": "code",
   "execution_count": 11,
   "id": "db147eb8",
   "metadata": {},
   "outputs": [],
   "source": [
    "name = \"Olivia\"\n",
    "gender = \"female\"\n",
    "age = 7"
   ]
  },
  {
   "cell_type": "code",
   "execution_count": 12,
   "id": "423864ee",
   "metadata": {},
   "outputs": [
    {
     "name": "stdout",
     "output_type": "stream",
     "text": [
      "There is letter O in the name\n"
     ]
    }
   ],
   "source": [
    "# multiple lines of code\n",
    "if \"O\" in name:\n",
    "    print(\"There is letter O in the name\")"
   ]
  },
  {
   "cell_type": "code",
   "execution_count": 14,
   "id": "89f93a01",
   "metadata": {},
   "outputs": [
    {
     "name": "stdout",
     "output_type": "stream",
     "text": [
      "There is letter O in the name\n"
     ]
    }
   ],
   "source": [
    "# one line of code\n",
    "if \"O\" in name: print(\"There is letter O in the name\")"
   ]
  },
  {
   "cell_type": "markdown",
   "id": "99fcf415",
   "metadata": {},
   "source": [
    "#### Group exercise"
   ]
  },
  {
   "cell_type": "code",
   "execution_count": 2,
   "id": "9b9c0afb",
   "metadata": {},
   "outputs": [
    {
     "name": "stdout",
     "output_type": "stream",
     "text": [
      "Priset för 10 äpplen för dig som är student är 70.0 kr.\n"
     ]
    }
   ],
   "source": [
    "price_of_apple = 10\n",
    "customer = input(\"Det finns rabatt för studenter och pensionärer. Fyll i din status: \")\n",
    "number_of_apples = int(input(\"Hur många äpplen vill du köpa? \"))\n",
    "total_price = price_of_apple * number_of_apples\n",
    "\n",
    "# student gets 30% discount and pensioners 50% discount\n",
    "if customer == \"student\":\n",
    "    price_of_apple = price_of_apple * 0.7\n",
    "elif customer == \"pensionär\":\n",
    "    price_of_apple = price_of_apple * 0.5\n",
    "else:\n",
    "    price_of_apple = price_of_apple * 1\n",
    "total_price = price_of_apple * number_of_apples\n",
    "print(f\"Priset för {number_of_apples} äpplen för dig som är {customer} är {total_price} kr.\")\n"
   ]
  }
 ],
 "metadata": {
  "kernelspec": {
   "display_name": "Python 3",
   "language": "python",
   "name": "python3"
  },
  "language_info": {
   "codemirror_mode": {
    "name": "ipython",
    "version": 3
   },
   "file_extension": ".py",
   "mimetype": "text/x-python",
   "name": "python",
   "nbconvert_exporter": "python",
   "pygments_lexer": "ipython3",
   "version": "3.12.10"
  }
 },
 "nbformat": 4,
 "nbformat_minor": 5
}
