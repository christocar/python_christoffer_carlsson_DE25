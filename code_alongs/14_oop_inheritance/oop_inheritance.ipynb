{
 "cells": [
  {
   "cell_type": "markdown",
   "id": "20a0cab4",
   "metadata": {},
   "source": [
    "# oop inheritance"
   ]
  },
  {
   "cell_type": "code",
   "execution_count": 30,
   "id": "b99f6737",
   "metadata": {},
   "outputs": [
    {
     "name": "stdout",
     "output_type": "stream",
     "text": [
      "property 'name' of 'Person' object has no setter\n",
      "Örjan\n",
      "Örjan says hi!\n"
     ]
    }
   ],
   "source": [
    "class Person:\n",
    "    def __init__(self, name: str, age: int):\n",
    "        self._name = name\n",
    "        self.age = age\n",
    "\n",
    "    @property\n",
    "    def name(self):\n",
    "        return self._name\n",
    "    \n",
    "    @property\n",
    "    def age(self):\n",
    "        return self._age\n",
    "    \n",
    "    @age.setter\n",
    "    def age(self, value: int):\n",
    "        if not (0 <= value <= 125):\n",
    "            raise ValueError(f\"Age must be between 0 and 124, not {value}.\")\n",
    "        self._age = value\n",
    "\n",
    "    def say_hi(self) -> None:\n",
    "               print(f\"{self.name} says hi!\")\n",
    "\n",
    "    def __repr__(self) -> str:\n",
    "        return f\"Person(name={self.name}, age={self.age})\"\n",
    "    \n",
    "p1 = Person(\"Örjan\", 25)\n",
    "\n",
    "try:\n",
    "    p1.name = \"Börje\"\n",
    "except AttributeError as err:\n",
    "    print(err)\n",
    "\n",
    "print(p1._name)\n",
    "\n",
    "p1.say_hi()"
   ]
  },
  {
   "cell_type": "code",
   "execution_count": 31,
   "id": "4db22d27",
   "metadata": {},
   "outputs": [
    {
     "data": {
      "text/plain": [
       "Person(name=Ceda, age=30)"
      ]
     },
     "execution_count": 31,
     "metadata": {},
     "output_type": "execute_result"
    }
   ],
   "source": [
    "p2 = Person(\"Ceda\", 30)\n",
    "p2"
   ]
  },
  {
   "cell_type": "markdown",
   "id": "a0d3fc0d",
   "metadata": {},
   "source": [
    "## implement Student"
   ]
  },
  {
   "cell_type": "code",
   "execution_count": 46,
   "id": "d7c91ee0",
   "metadata": {},
   "outputs": [
    {
     "name": "stdout",
     "output_type": "stream",
     "text": [
      "Student Bjorn says hi in Norska!\n"
     ]
    }
   ],
   "source": [
    "class Student(Person):\n",
    "    def __init__ (self, name: str, age: int, language: str):\n",
    "        #this goes to the parents and use its __init__\n",
    "        super().__init__(name, age)\n",
    "        self.language = language\n",
    "\n",
    "    #override the say_hi method when calling say_hi on Student\n",
    "    # it will use this method instead of the one in the parent class\n",
    "    def say_hi(self):\n",
    "        print(f\"Student {self.name} says hi in {self.language}!\")\n",
    "\n",
    "try:\n",
    "    s1 = Student(\"Bjorn\", 35, \"Norska\")\n",
    "except Exception as err:\n",
    "    print(err)\n",
    "\n",
    "s1.say_hi()"
   ]
  },
  {
   "cell_type": "code",
   "execution_count": 50,
   "id": "8369311d",
   "metadata": {},
   "outputs": [
    {
     "name": "stdout",
     "output_type": "stream",
     "text": [
      "Ubbe says hi!\n"
     ]
    },
    {
     "data": {
      "text/plain": [
       "OldCoinStash(owner='Ubbe')"
      ]
     },
     "execution_count": 50,
     "metadata": {},
     "output_type": "execute_result"
    }
   ],
   "source": [
    "from oldcoins import OldCoinsStash\n",
    "class Viking(Person):\n",
    "    def __init__(self, name: str, age: int) -> None:\n",
    "        super().__init__(name, age)\n",
    "        # composition - a Viking has a stash of old coins\n",
    "        self.stash = OldCoinsStash(name)\n",
    "\n",
    "viking_ubbe = Viking(\"Ubbe\", 35)\n",
    "viking_ubbe.say_hi()\n",
    "\n",
    "viking_ubbe.stash"
   ]
  },
  {
   "cell_type": "code",
   "execution_count": 51,
   "id": "1ea7c53c",
   "metadata": {},
   "outputs": [
    {
     "data": {
      "text/plain": [
       "'Coins in stash: 500 riksdaler, 10 skilling'"
      ]
     },
     "execution_count": 51,
     "metadata": {},
     "output_type": "execute_result"
    }
   ],
   "source": [
    "viking_ubbe.stash.deposit(500, 10)\n",
    "viking_ubbe.stash.check_balance()"
   ]
  },
  {
   "cell_type": "code",
   "execution_count": 52,
   "id": "714417e0",
   "metadata": {},
   "outputs": [
    {
     "ename": "ValueError",
     "evalue": "Age must be between 0 and 124, not -28.",
     "output_type": "error",
     "traceback": [
      "\u001b[31m---------------------------------------------------------------------------\u001b[39m",
      "\u001b[31mValueError\u001b[39m                                Traceback (most recent call last)",
      "\u001b[36mCell\u001b[39m\u001b[36m \u001b[39m\u001b[32mIn[52]\u001b[39m\u001b[32m, line 1\u001b[39m\n\u001b[32m----> \u001b[39m\u001b[32m1\u001b[39m viking_ivar = \u001b[43mViking\u001b[49m\u001b[43m(\u001b[49m\u001b[33;43m\"\u001b[39;49m\u001b[33;43mIvar\u001b[39;49m\u001b[33;43m\"\u001b[39;49m\u001b[43m,\u001b[49m\u001b[43m \u001b[49m\u001b[43m-\u001b[49m\u001b[32;43m28\u001b[39;49m\u001b[43m)\u001b[49m\n",
      "\u001b[36mCell\u001b[39m\u001b[36m \u001b[39m\u001b[32mIn[50]\u001b[39m\u001b[32m, line 4\u001b[39m, in \u001b[36mViking.__init__\u001b[39m\u001b[34m(self, name, age)\u001b[39m\n\u001b[32m      3\u001b[39m \u001b[38;5;28;01mdef\u001b[39;00m\u001b[38;5;250m \u001b[39m\u001b[34m__init__\u001b[39m(\u001b[38;5;28mself\u001b[39m, name: \u001b[38;5;28mstr\u001b[39m, age: \u001b[38;5;28mint\u001b[39m) -> \u001b[38;5;28;01mNone\u001b[39;00m:\n\u001b[32m----> \u001b[39m\u001b[32m4\u001b[39m     \u001b[38;5;28;43msuper\u001b[39;49m\u001b[43m(\u001b[49m\u001b[43m)\u001b[49m\u001b[43m.\u001b[49m\u001b[34;43m__init__\u001b[39;49m\u001b[43m(\u001b[49m\u001b[43mname\u001b[49m\u001b[43m,\u001b[49m\u001b[43m \u001b[49m\u001b[43mage\u001b[49m\u001b[43m)\u001b[49m\n\u001b[32m      5\u001b[39m     \u001b[38;5;66;03m# composition - a Viking has a stash of old coins\u001b[39;00m\n\u001b[32m      6\u001b[39m     \u001b[38;5;28mself\u001b[39m.stash = OldCoinsStash(name)\n",
      "\u001b[36mCell\u001b[39m\u001b[36m \u001b[39m\u001b[32mIn[30]\u001b[39m\u001b[32m, line 4\u001b[39m, in \u001b[36mPerson.__init__\u001b[39m\u001b[34m(self, name, age)\u001b[39m\n\u001b[32m      2\u001b[39m \u001b[38;5;28;01mdef\u001b[39;00m\u001b[38;5;250m \u001b[39m\u001b[34m__init__\u001b[39m(\u001b[38;5;28mself\u001b[39m, name: \u001b[38;5;28mstr\u001b[39m, age: \u001b[38;5;28mint\u001b[39m):\n\u001b[32m      3\u001b[39m     \u001b[38;5;28mself\u001b[39m._name = name\n\u001b[32m----> \u001b[39m\u001b[32m4\u001b[39m     \u001b[38;5;28;43mself\u001b[39;49m\u001b[43m.\u001b[49m\u001b[43mage\u001b[49m = age\n",
      "\u001b[36mCell\u001b[39m\u001b[36m \u001b[39m\u001b[32mIn[30]\u001b[39m\u001b[32m, line 17\u001b[39m, in \u001b[36mPerson.age\u001b[39m\u001b[34m(self, value)\u001b[39m\n\u001b[32m     14\u001b[39m \u001b[38;5;129m@age\u001b[39m.setter\n\u001b[32m     15\u001b[39m \u001b[38;5;28;01mdef\u001b[39;00m\u001b[38;5;250m \u001b[39m\u001b[34mage\u001b[39m(\u001b[38;5;28mself\u001b[39m, value: \u001b[38;5;28mint\u001b[39m):\n\u001b[32m     16\u001b[39m     \u001b[38;5;28;01mif\u001b[39;00m \u001b[38;5;129;01mnot\u001b[39;00m (\u001b[32m0\u001b[39m <= value <= \u001b[32m125\u001b[39m):\n\u001b[32m---> \u001b[39m\u001b[32m17\u001b[39m         \u001b[38;5;28;01mraise\u001b[39;00m \u001b[38;5;167;01mValueError\u001b[39;00m(\u001b[33mf\u001b[39m\u001b[33m\"\u001b[39m\u001b[33mAge must be between 0 and 124, not \u001b[39m\u001b[38;5;132;01m{\u001b[39;00mvalue\u001b[38;5;132;01m}\u001b[39;00m\u001b[33m.\u001b[39m\u001b[33m\"\u001b[39m)\n\u001b[32m     18\u001b[39m     \u001b[38;5;28mself\u001b[39m._age = value\n",
      "\u001b[31mValueError\u001b[39m: Age must be between 0 and 124, not -28."
     ]
    }
   ],
   "source": [
    "viking_ivar = Viking(\"Ivar\", -28)"
   ]
  },
  {
   "cell_type": "markdown",
   "id": "eaf8a415",
   "metadata": {},
   "source": []
  },
  {
   "cell_type": "markdown",
   "id": "4dae1000",
   "metadata": {},
   "source": []
  }
 ],
 "metadata": {
  "kernelspec": {
   "display_name": "Python 3",
   "language": "python",
   "name": "python3"
  },
  "language_info": {
   "codemirror_mode": {
    "name": "ipython",
    "version": 3
   },
   "file_extension": ".py",
   "mimetype": "text/x-python",
   "name": "python",
   "nbconvert_exporter": "python",
   "pygments_lexer": "ipython3",
   "version": "3.12.10"
  }
 },
 "nbformat": 4,
 "nbformat_minor": 5
}
