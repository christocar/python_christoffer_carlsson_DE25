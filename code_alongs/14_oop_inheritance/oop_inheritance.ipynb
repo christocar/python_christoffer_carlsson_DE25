{
 "cells": [
  {
   "cell_type": "markdown",
   "id": "20a0cab4",
   "metadata": {},
   "source": [
    "# oop inheritance"
   ]
  },
  {
   "cell_type": "code",
   "execution_count": 30,
   "id": "b99f6737",
   "metadata": {},
   "outputs": [
    {
     "name": "stdout",
     "output_type": "stream",
     "text": [
      "property 'name' of 'Person' object has no setter\n",
      "Örjan\n",
      "Örjan says hi!\n"
     ]
    }
   ],
   "source": [
    "class Person:\n",
    "    def __init__(self, name: str, age: int):\n",
    "        self._name = name\n",
    "        self.age = age\n",
    "\n",
    "    @property\n",
    "    def name(self):\n",
    "        return self._name\n",
    "    \n",
    "    @property\n",
    "    def age(self):\n",
    "        return self._age\n",
    "    \n",
    "    @age.setter\n",
    "    def age(self, value: int):\n",
    "        if not (0 <= value <= 125):\n",
    "            raise ValueError(f\"Age must be between 0 and 124, not {value}.\")\n",
    "        self._age = value\n",
    "\n",
    "    def say_hi(self) -> None:\n",
    "               print(f\"{self.name} says hi!\")\n",
    "\n",
    "    def __repr__(self) -> str:\n",
    "        return f\"Person(name={self.name}, age={self.age})\"\n",
    "    \n",
    "p1 = Person(\"Örjan\", 25)\n",
    "\n",
    "try:\n",
    "    p1.name = \"Börje\"\n",
    "except AttributeError as err:\n",
    "    print(err)\n",
    "\n",
    "print(p1._name)\n",
    "\n",
    "p1.say_hi()"
   ]
  },
  {
   "cell_type": "code",
   "execution_count": 31,
   "id": "4db22d27",
   "metadata": {},
   "outputs": [
    {
     "data": {
      "text/plain": [
       "Person(name=Ceda, age=30)"
      ]
     },
     "execution_count": 31,
     "metadata": {},
     "output_type": "execute_result"
    }
   ],
   "source": [
    "p2 = Person(\"Ceda\", 30)\n",
    "p2"
   ]
  },
  {
   "cell_type": "markdown",
   "id": "a0d3fc0d",
   "metadata": {},
   "source": [
    "## implement Student"
   ]
  },
  {
   "cell_type": "code",
   "execution_count": 32,
   "id": "d7c91ee0",
   "metadata": {},
   "outputs": [
    {
     "ename": "NameError",
     "evalue": "name 'language' is not defined",
     "output_type": "error",
     "traceback": [
      "\u001b[31m---------------------------------------------------------------------------\u001b[39m",
      "\u001b[31mNameError\u001b[39m                                 Traceback (most recent call last)",
      "\u001b[36mCell\u001b[39m\u001b[36m \u001b[39m\u001b[32mIn[32]\u001b[39m\u001b[32m, line 8\u001b[39m\n\u001b[32m      4\u001b[39m         \u001b[38;5;28msuper\u001b[39m().\u001b[34m__init__\u001b[39m(name, age)\n\u001b[32m      5\u001b[39m         \u001b[38;5;28mself\u001b[39m.language = language\n\u001b[32m----> \u001b[39m\u001b[32m8\u001b[39m s1 = \u001b[43mStudent\u001b[49m\u001b[43m(\u001b[49m\u001b[33;43m\"\u001b[39;49m\u001b[33;43mBjorn\u001b[39;49m\u001b[33;43m\"\u001b[39;49m\u001b[43m,\u001b[49m\u001b[43m \u001b[49m\u001b[32;43m123\u001b[39;49m\u001b[43m,\u001b[49m\u001b[43m \u001b[49m\u001b[33;43m\"\u001b[39;49m\u001b[33;43mNorska\u001b[39;49m\u001b[33;43m\"\u001b[39;49m\u001b[43m)\u001b[49m\n",
      "\u001b[36mCell\u001b[39m\u001b[36m \u001b[39m\u001b[32mIn[32]\u001b[39m\u001b[32m, line 5\u001b[39m, in \u001b[36mStudent.__init__\u001b[39m\u001b[34m(self, name, age, student_id)\u001b[39m\n\u001b[32m      2\u001b[39m \u001b[38;5;28;01mdef\u001b[39;00m\u001b[38;5;250m \u001b[39m\u001b[34m__init__\u001b[39m (\u001b[38;5;28mself\u001b[39m, name: \u001b[38;5;28mstr\u001b[39m, age: \u001b[38;5;28mint\u001b[39m, student_id: \u001b[38;5;28mstr\u001b[39m):\n\u001b[32m      3\u001b[39m     \u001b[38;5;66;03m#this goes to the parents and use its __init__\u001b[39;00m\n\u001b[32m      4\u001b[39m     \u001b[38;5;28msuper\u001b[39m().\u001b[34m__init__\u001b[39m(name, age)\n\u001b[32m----> \u001b[39m\u001b[32m5\u001b[39m     \u001b[38;5;28mself\u001b[39m.language = \u001b[43mlanguage\u001b[49m\n",
      "\u001b[31mNameError\u001b[39m: name 'language' is not defined"
     ]
    }
   ],
   "source": [
    "class Student(Person):\n",
    "    def __init__ (self, name: str, age: int, student_id: str):\n",
    "        #this goes to the parents and use its __init__\n",
    "        super().__init__(name, age)\n",
    "        self.language = language\n",
    "\n",
    "\n",
    "s1 = Student(\"Bjorn\", 123, \"Norska\")"
   ]
  },
  {
   "cell_type": "markdown",
   "id": "eaf8a415",
   "metadata": {},
   "source": []
  }
 ],
 "metadata": {
  "kernelspec": {
   "display_name": "Python 3",
   "language": "python",
   "name": "python3"
  },
  "language_info": {
   "codemirror_mode": {
    "name": "ipython",
    "version": 3
   },
   "file_extension": ".py",
   "mimetype": "text/x-python",
   "name": "python",
   "nbconvert_exporter": "python",
   "pygments_lexer": "ipython3",
   "version": "3.12.10"
  }
 },
 "nbformat": 4,
 "nbformat_minor": 5
}
