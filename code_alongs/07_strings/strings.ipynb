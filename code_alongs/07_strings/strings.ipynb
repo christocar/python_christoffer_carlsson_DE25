{
 "cells": [
  {
   "cell_type": "markdown",
   "id": "a54792d1",
   "metadata": {},
   "source": [
    "# strings"
   ]
  },
  {
   "cell_type": "markdown",
   "id": "470af8a0",
   "metadata": {},
   "source": [
    "##### class code along\n",
    "- we have just created and printed out string type variable in lecture 4\n",
    "- this lecture is more about strings"
   ]
  },
  {
   "cell_type": "markdown",
   "id": "b995410d",
   "metadata": {},
   "source": [
    "## Concatenate strings"
   ]
  },
  {
   "cell_type": "code",
   "execution_count": 2,
   "id": "d42a5ad8",
   "metadata": {},
   "outputs": [
    {
     "data": {
      "text/plain": [
       "'kokchun giang'"
      ]
     },
     "execution_count": 2,
     "metadata": {},
     "output_type": "execute_result"
    }
   ],
   "source": [
    "# concatenate multiple strings with + operator\n",
    "# remember + operator has another meaning when it comes to numeric variables\n",
    "\n",
    "first_name = \"kokchun\"\n",
    "last_name = \"giang\"\n",
    "\n",
    "full_name = first_name + \" \" + last_name\n",
    "full_name"
   ]
  },
  {
   "cell_type": "code",
   "execution_count": 6,
   "id": "2ecbc1f9",
   "metadata": {},
   "outputs": [
    {
     "name": "stdout",
     "output_type": "stream",
     "text": [
      "kokchun giang is working in a company called Algineer AB. And his adress is Supah cool streeeeeeeeeeeto.\n",
      "kokchun giang is working in a company called Algineer AB.\n",
      "And his adress is Supah cool streeeeeeeeeeeto.\n"
     ]
    }
   ],
   "source": [
    "# multiline f-string for concatenating many strings\n",
    "work = \"Algineer AB\"\n",
    "adress = \"Supah cool streeeeeeeeeeeto\"\n",
    "\n",
    "# f-string with one line\n",
    "print(f\"{full_name} is working in a company called {work}. And his adress is {adress}.\")\n",
    "\n",
    "# f-string with multiple\n",
    "print(f\"\"\"{full_name} is working in a company called {work}.\n",
    "And his adress is {adress}.\"\"\")\n"
   ]
  },
  {
   "cell_type": "code",
   "execution_count": 8,
   "id": "8212cf69",
   "metadata": {},
   "outputs": [
    {
     "name": "stdout",
     "output_type": "stream",
     "text": [
      "#Today's fruits: apple orange strawberry \n",
      "apple\n",
      "orange\n",
      "strawberry\n"
     ]
    }
   ],
   "source": [
    "# concatenate with loop\n",
    "\n",
    "fruits_today = \"apple \" + \"orange \" + \"strawberry \"\n",
    "\n",
    "print(f\"#Today's fruits: {fruits_today}\")\n",
    "\n",
    "fruits_today_list = [\"apple\", \"orange\", \"strawberry\"]\n",
    "for fruit in fruits_today_list:\n",
    "    print(fruit)"
   ]
  },
  {
   "cell_type": "markdown",
   "id": "2fbbaec4",
   "metadata": {},
   "source": [
    "## Indexing\n",
    "- an operation to access \"an item\"\n",
    "- what is an item in the context of string? it is one of the characters inside the string\n",
    "- we can use[] operator for indexing\n",
    "- slicing is also possible if we want to access multiple characters\n",
    "- we can use : for slicing"
   ]
  },
  {
   "cell_type": "code",
   "execution_count": 10,
   "id": "6d9a514d",
   "metadata": {},
   "outputs": [
    {
     "name": "stdout",
     "output_type": "stream",
     "text": [
      "kokchun giang\n",
      "The first letter of the string is: k\n",
      "The last letter is: g\n"
     ]
    }
   ],
   "source": [
    "# index\n",
    "print(full_name)\n",
    "print(f\"The first letter of the string is: {full_name[0]}\")\n",
    "print(f\"The last letter is: {full_name[12]}\")"
   ]
  },
  {
   "cell_type": "code",
   "execution_count": 20,
   "id": "eb9b61cc",
   "metadata": {},
   "outputs": [
    {
     "name": "stdout",
     "output_type": "stream",
     "text": [
      "The first three letters are: kok\n",
      "The last three letters are: gna\n"
     ]
    }
   ],
   "source": [
    "# slicing\n",
    "print(f\"The first three letters are: {full_name[0:3]}\")\n",
    "\n",
    "# slicing reversely\n",
    "print(f\"The last three letters are: {full_name[-1:-4:-1]}\")"
   ]
  },
  {
   "cell_type": "markdown",
   "id": "367b2fb7",
   "metadata": {},
   "source": [
    "## Some common examples to clean strings\n",
    "- make use of string methods\n",
    "- "
   ]
  },
  {
   "cell_type": "code",
   "execution_count": 22,
   "id": "050339b3",
   "metadata": {},
   "outputs": [
    {
     "data": {
      "text/plain": [
       "['Math', ' biology   ', ' cHeMistry ', ' Pr0gramming    ']"
      ]
     },
     "execution_count": 22,
     "metadata": {},
     "output_type": "execute_result"
    }
   ],
   "source": [
    "# splitting a sting¨\n",
    "subjects = \"Math, biology   , cHeMistry , Pr0gramming    \"\n",
    "\n",
    "subjects = subjects.split(\",\")\n",
    "\n",
    "subjects"
   ]
  },
  {
   "cell_type": "code",
   "execution_count": 24,
   "id": "db4203bc",
   "metadata": {},
   "outputs": [
    {
     "name": "stdout",
     "output_type": "stream",
     "text": [
      "Math\n",
      "biology\n",
      "cHeMistry\n",
      "Pr0gramming\n"
     ]
    }
   ],
   "source": [
    "# strip off leading and trailing space\n",
    "# check out also rstrip() and lstrip()\n",
    "for subject in subjects:\n",
    "    print(subject.strip())"
   ]
  },
  {
   "cell_type": "code",
   "execution_count": 26,
   "id": "cd61c95b",
   "metadata": {},
   "outputs": [
    {
     "name": "stdout",
     "output_type": "stream",
     "text": [
      "MATH\n",
      "BIOLOGY\n",
      "CHEMISTRY\n",
      "PR0GRAMMING\n"
     ]
    }
   ],
   "source": [
    "# making upper case letters\n",
    "# check out lower()\n",
    "for subject in subjects:\n",
    "    print(subject.strip(). upper())"
   ]
  },
  {
   "cell_type": "markdown",
   "id": "68f89379",
   "metadata": {},
   "source": [
    "## Regular expression\n",
    "- look for pattern\n",
    "- make use of differente functions in re package\n",
    "- syntax of using functions from an imported package\n",
    "    - re.findall()\n",
    "    - imported_package.function\n",
    "- check out the w3schools re tutorial to learn more symbols to form patterns"
   ]
  },
  {
   "cell_type": "code",
   "execution_count": 34,
   "id": "04e8c79f",
   "metadata": {},
   "outputs": [],
   "source": [
    "import re"
   ]
  },
  {
   "cell_type": "code",
   "execution_count": 33,
   "id": "442c97a2",
   "metadata": {},
   "outputs": [
    {
     "name": "stdout",
     "output_type": "stream",
     "text": [
      "Lista med alla 'att': ['katt', 'hatt']\n"
     ]
    }
   ],
   "source": [
    "text = \"det var en gång en katt som tog på sig en hatt.\"\n",
    "\n",
    "list_letter_att = re.findall(\".att\", text)\n",
    "print(f\"Lista med alla 'att': {list_letter_att}\")"
   ]
  },
  {
   "cell_type": "markdown",
   "id": "1f50f6d8",
   "metadata": {},
   "source": [
    "##### Video code along"
   ]
  },
  {
   "cell_type": "code",
   "execution_count": 1,
   "id": "22446631",
   "metadata": {},
   "outputs": [
    {
     "data": {
      "text/plain": [
       "'Christoffer Carlsson'"
      ]
     },
     "execution_count": 1,
     "metadata": {},
     "output_type": "execute_result"
    }
   ],
   "source": [
    "firstname = \"Christoffer\"\n",
    "lastname = \"Carlsson\"\n",
    "\n",
    "fullname = firstname + \" \" + lastname\n",
    "fullname"
   ]
  },
  {
   "cell_type": "code",
   "execution_count": null,
   "id": "be3c2111",
   "metadata": {},
   "outputs": [
    {
     "name": "stdout",
     "output_type": "stream",
     "text": [
      "\n",
      "name: Christoffer Carlsson\n",
      "work: I work at DE25\n",
      "address: We are located in Stockholm\n",
      "phone: My phone number is 072-732 23 29\n",
      "\n"
     ]
    }
   ],
   "source": [
    "work = \"I work at DE25\" \n",
    "address = \"We are located in Stockholm\"\n",
    "phone = \"My phone number is 072-732 23 29\"\n",
    "\n",
    "contact_details = f\"\"\"\n",
    "name: {fullname}\n",
    "work: {work}\n",
    "address: {address}\n",
    "phone: {phone}\n",
    "\"\"\" # multi-line f-string\n",
    "print(contact_details) # print the full contact details"
   ]
  },
  {
   "cell_type": "code",
   "execution_count": 7,
   "id": "1785076e",
   "metadata": {},
   "outputs": [
    {
     "name": "stdout",
     "output_type": "stream",
     "text": [
      "Weekly menu\n",
      "mo: chili con carne\n",
      "tu: noodles\n",
      "wed: poke bowl\n",
      "thu: pancakes\n",
      "fri: taco\n",
      "\n"
     ]
    }
   ],
   "source": [
    "menu = [\"chili con carne\", \"noodles\", \"poke bowl\", \"pancakes\", \"taco\"]\n",
    "days = [\"mo\", \"tu\", \"wed\", \"thu\", \"fri\"]\n",
    "\n",
    "weekly_menu = \"Weekly menu\\n\" # initialize the menu string\n",
    "\n",
    "for day, food in zip(days, menu): # zip creates pairs of items from two lists\n",
    "    weekly_menu += f\"{day}: {food}\\n\" # add a new line after each day\n",
    "\n",
    "print(weekly_menu) # print the full menu"
   ]
  },
  {
   "cell_type": "code",
   "execution_count": 11,
   "id": "90dc3847",
   "metadata": {},
   "outputs": [
    {
     "data": {
      "text/plain": [
       "\"!False - it's funny because it's True\""
      ]
     },
     "execution_count": 11,
     "metadata": {},
     "output_type": "execute_result"
    }
   ],
   "source": [
    "quote = \"!False - it's funny because it's True\" \n",
    "quote"
   ]
  },
  {
   "cell_type": "code",
   "execution_count": 12,
   "id": "53ebb3ca",
   "metadata": {},
   "outputs": [
    {
     "data": {
      "text/plain": [
       "'!'"
      ]
     },
     "execution_count": 12,
     "metadata": {},
     "output_type": "execute_result"
    }
   ],
   "source": [
    "quote[0] # first character"
   ]
  },
  {
   "cell_type": "code",
   "execution_count": 13,
   "id": "815789a3",
   "metadata": {},
   "outputs": [
    {
     "data": {
      "text/plain": [
       "'e'"
      ]
     },
     "execution_count": 13,
     "metadata": {},
     "output_type": "execute_result"
    }
   ],
   "source": [
    "quote[-1] # last character"
   ]
  },
  {
   "cell_type": "code",
   "execution_count": 14,
   "id": "34895f44",
   "metadata": {},
   "outputs": [
    {
     "data": {
      "text/plain": [
       "'!False'"
      ]
     },
     "execution_count": 14,
     "metadata": {},
     "output_type": "execute_result"
    }
   ],
   "source": [
    "quote[:6] # first 6 characters"
   ]
  },
  {
   "cell_type": "code",
   "execution_count": 15,
   "id": "db9044c5",
   "metadata": {},
   "outputs": [
    {
     "data": {
      "text/plain": [
       "\"eurT s'ti esuaceb ynnuf s'ti - eslaF!\""
      ]
     },
     "execution_count": 15,
     "metadata": {},
     "output_type": "execute_result"
    }
   ],
   "source": [
    "quote[::-1] # the full string in reverse"
   ]
  },
  {
   "cell_type": "code",
   "execution_count": 16,
   "id": "42d06201",
   "metadata": {},
   "outputs": [
    {
     "data": {
      "text/plain": [
       "True"
      ]
     },
     "execution_count": 16,
     "metadata": {},
     "output_type": "execute_result"
    }
   ],
   "source": [
    "string_to_check = \"olasalo\"\n",
    "string_to_check[::-1] == string_to_check # check if the string is a palindrome"
   ]
  },
  {
   "cell_type": "markdown",
   "id": "5878e00a",
   "metadata": {},
   "source": [
    "##### split and clean a string"
   ]
  },
  {
   "cell_type": "code",
   "execution_count": null,
   "id": "0d3da4ec",
   "metadata": {},
   "outputs": [
    {
     "data": {
      "text/plain": [
       "'Math, biology  ,   CheMistry  ,  Pr0gramming      '"
      ]
     },
     "execution_count": 17,
     "metadata": {},
     "output_type": "execute_result"
    }
   ],
   "source": [
    "subjects = \"Math, biology  ,   CheMistry  ,  Pr0gramming      \" # a string with messy\n",
    "subjects # print the original string"
   ]
  },
  {
   "cell_type": "code",
   "execution_count": 18,
   "id": "036e32fa",
   "metadata": {},
   "outputs": [
    {
     "data": {
      "text/plain": [
       "['Math', ' biology  ', '   CheMistry  ', '  Pr0gramming      ']"
      ]
     },
     "execution_count": 18,
     "metadata": {},
     "output_type": "execute_result"
    }
   ],
   "source": [
    "subjects = subjects.split(\",\") # split the string at each comma\n",
    "subjects # print the list of subjects"
   ]
  },
  {
   "cell_type": "code",
   "execution_count": 21,
   "id": "19bac18a",
   "metadata": {},
   "outputs": [
    {
     "name": "stdout",
     "output_type": "stream",
     "text": [
      "MATH has 4 characters\n",
      "BIOLOGY has 7 characters\n",
      "CHEMISTRY has 9 characters\n",
      "PR0GRAMMING has 11 characters\n"
     ]
    }
   ],
   "source": [
    "subjects = [subject.strip().upper() for subject in subjects] # clean each subject\n",
    "for subject in subjects: # iterate through the cleaned subjects\n",
    "    print(F\"{subject} has {len(subject)} characters\") # print the subject and its length\n",
    "    "
   ]
  },
  {
   "cell_type": "markdown",
   "id": "24406a2b",
   "metadata": {},
   "source": [
    "### regex"
   ]
  },
  {
   "cell_type": "code",
   "execution_count": 22,
   "id": "9347a377",
   "metadata": {},
   "outputs": [
    {
     "data": {
      "text/plain": [
       "['katt', 'hatt']"
      ]
     },
     "execution_count": 22,
     "metadata": {},
     "output_type": "execute_result"
    }
   ],
   "source": [
    "import re # import the regex module\n",
    "\n",
    "text = \"Det var en gång en katt som tog på sig en hatt.\" # a sample text\n",
    "match_list = re.findall(r\".att\", text) # find all words ending with \"att\"\n",
    "match_list # print the list of matches"
   ]
  },
  {
   "cell_type": "code",
   "execution_count": 26,
   "id": "68adc3fe",
   "metadata": {},
   "outputs": [
    {
     "data": {
      "text/plain": [
       "['19900101-1234', '19851212-4321']"
      ]
     },
     "execution_count": 26,
     "metadata": {},
     "output_type": "execute_result"
    }
   ],
   "source": [
    "personal_numbers = \"Ida: 19900101-1234, Anna: 19851212-4321, Erik: 000303-5678\"\n",
    "match_long = re.findall(r\"\\d{8}-\\d{4}\", personal_numbers) # find all personal numbers with 8 digits, a hyphen, and 4 digits\n",
    "match_long"
   ]
  },
  {
   "cell_type": "code",
   "execution_count": 28,
   "id": "8112a4a7",
   "metadata": {},
   "outputs": [
    {
     "data": {
      "text/plain": [
       "['900101-1234', '851212-4321', '000303-5678']"
      ]
     },
     "execution_count": 28,
     "metadata": {},
     "output_type": "execute_result"
    }
   ],
   "source": [
    "match_short = re.findall(r\"\\d{6}-\\d{4}\", personal_numbers) # find all personal numbers with 6 digits, a hyphen, and 4 digits\n",
    "match_short"
   ]
  },
  {
   "cell_type": "code",
   "execution_count": null,
   "id": "26fb1728",
   "metadata": {},
   "outputs": [],
   "source": []
  }
 ],
 "metadata": {
  "kernelspec": {
   "display_name": "Python 3",
   "language": "python",
   "name": "python3"
  },
  "language_info": {
   "codemirror_mode": {
    "name": "ipython",
    "version": 3
   },
   "file_extension": ".py",
   "mimetype": "text/x-python",
   "name": "python",
   "nbconvert_exporter": "python",
   "pygments_lexer": "ipython3",
   "version": "3.12.10"
  }
 },
 "nbformat": 4,
 "nbformat_minor": 5
}
