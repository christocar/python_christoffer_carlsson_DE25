{
 "cells": [
  {
   "cell_type": "markdown",
   "id": "a54792d1",
   "metadata": {},
   "source": [
    "# strings"
   ]
  },
  {
   "cell_type": "code",
   "execution_count": 1,
   "id": "22446631",
   "metadata": {},
   "outputs": [
    {
     "data": {
      "text/plain": [
       "'Christoffer Carlsson'"
      ]
     },
     "execution_count": 1,
     "metadata": {},
     "output_type": "execute_result"
    }
   ],
   "source": [
    "firstname = \"Christoffer\"\n",
    "lastname = \"Carlsson\"\n",
    "\n",
    "fullname = firstname + \" \" + lastname\n",
    "fullname"
   ]
  },
  {
   "cell_type": "code",
   "execution_count": null,
   "id": "be3c2111",
   "metadata": {},
   "outputs": [
    {
     "name": "stdout",
     "output_type": "stream",
     "text": [
      "\n",
      "name: Christoffer Carlsson\n",
      "work: I work at DE25\n",
      "address: We are located in Stockholm\n",
      "phone: My phone number is 072-732 23 29\n",
      "\n"
     ]
    }
   ],
   "source": [
    "work = \"I work at DE25\" \n",
    "address = \"We are located in Stockholm\"\n",
    "phone = \"My phone number is 072-732 23 29\"\n",
    "\n",
    "contact_details = f\"\"\"\n",
    "name: {fullname}\n",
    "work: {work}\n",
    "address: {address}\n",
    "phone: {phone}\n",
    "\"\"\" # multi-line f-string\n",
    "print(contact_details) # print the full contact details"
   ]
  },
  {
   "cell_type": "code",
   "execution_count": 7,
   "id": "1785076e",
   "metadata": {},
   "outputs": [
    {
     "name": "stdout",
     "output_type": "stream",
     "text": [
      "Weekly menu\n",
      "mo: chili con carne\n",
      "tu: noodles\n",
      "wed: poke bowl\n",
      "thu: pancakes\n",
      "fri: taco\n",
      "\n"
     ]
    }
   ],
   "source": [
    "menu = [\"chili con carne\", \"noodles\", \"poke bowl\", \"pancakes\", \"taco\"]\n",
    "days = [\"mo\", \"tu\", \"wed\", \"thu\", \"fri\"]\n",
    "\n",
    "weekly_menu = \"Weekly menu\\n\" # initialize the menu string\n",
    "\n",
    "for day, food in zip(days, menu): # zip creates pairs of items from two lists\n",
    "    weekly_menu += f\"{day}: {food}\\n\" # add a new line after each day\n",
    "\n",
    "print(weekly_menu) # print the full menu"
   ]
  },
  {
   "cell_type": "code",
   "execution_count": 11,
   "id": "90dc3847",
   "metadata": {},
   "outputs": [
    {
     "data": {
      "text/plain": [
       "\"!False - it's funny because it's True\""
      ]
     },
     "execution_count": 11,
     "metadata": {},
     "output_type": "execute_result"
    }
   ],
   "source": [
    "quote = \"!False - it's funny because it's True\" \n",
    "quote"
   ]
  },
  {
   "cell_type": "code",
   "execution_count": 12,
   "id": "53ebb3ca",
   "metadata": {},
   "outputs": [
    {
     "data": {
      "text/plain": [
       "'!'"
      ]
     },
     "execution_count": 12,
     "metadata": {},
     "output_type": "execute_result"
    }
   ],
   "source": [
    "quote[0] # first character"
   ]
  },
  {
   "cell_type": "code",
   "execution_count": 13,
   "id": "815789a3",
   "metadata": {},
   "outputs": [
    {
     "data": {
      "text/plain": [
       "'e'"
      ]
     },
     "execution_count": 13,
     "metadata": {},
     "output_type": "execute_result"
    }
   ],
   "source": [
    "quote[-1] # last character"
   ]
  },
  {
   "cell_type": "code",
   "execution_count": 14,
   "id": "34895f44",
   "metadata": {},
   "outputs": [
    {
     "data": {
      "text/plain": [
       "'!False'"
      ]
     },
     "execution_count": 14,
     "metadata": {},
     "output_type": "execute_result"
    }
   ],
   "source": [
    "quote[:6] # first 6 characters"
   ]
  },
  {
   "cell_type": "code",
   "execution_count": 15,
   "id": "db9044c5",
   "metadata": {},
   "outputs": [
    {
     "data": {
      "text/plain": [
       "\"eurT s'ti esuaceb ynnuf s'ti - eslaF!\""
      ]
     },
     "execution_count": 15,
     "metadata": {},
     "output_type": "execute_result"
    }
   ],
   "source": [
    "quote[::-1] # the full string in reverse"
   ]
  },
  {
   "cell_type": "code",
   "execution_count": 16,
   "id": "42d06201",
   "metadata": {},
   "outputs": [
    {
     "data": {
      "text/plain": [
       "True"
      ]
     },
     "execution_count": 16,
     "metadata": {},
     "output_type": "execute_result"
    }
   ],
   "source": [
    "string_to_check = \"olasalo\"\n",
    "string_to_check[::-1] == string_to_check # check if the string is a palindrome"
   ]
  },
  {
   "cell_type": "markdown",
   "id": "5878e00a",
   "metadata": {},
   "source": [
    "##### split and clean a string"
   ]
  },
  {
   "cell_type": "code",
   "execution_count": null,
   "id": "0d3da4ec",
   "metadata": {},
   "outputs": [
    {
     "data": {
      "text/plain": [
       "'Math, biology  ,   CheMistry  ,  Pr0gramming      '"
      ]
     },
     "execution_count": 17,
     "metadata": {},
     "output_type": "execute_result"
    }
   ],
   "source": [
    "subjects = \"Math, biology  ,   CheMistry  ,  Pr0gramming      \" # a string with messy\n",
    "subjects # print the original string"
   ]
  },
  {
   "cell_type": "code",
   "execution_count": 18,
   "id": "036e32fa",
   "metadata": {},
   "outputs": [
    {
     "data": {
      "text/plain": [
       "['Math', ' biology  ', '   CheMistry  ', '  Pr0gramming      ']"
      ]
     },
     "execution_count": 18,
     "metadata": {},
     "output_type": "execute_result"
    }
   ],
   "source": [
    "subjects = subjects.split(\",\") # split the string at each comma\n",
    "subjects # print the list of subjects"
   ]
  },
  {
   "cell_type": "code",
   "execution_count": 21,
   "id": "19bac18a",
   "metadata": {},
   "outputs": [
    {
     "name": "stdout",
     "output_type": "stream",
     "text": [
      "MATH has 4 characters\n",
      "BIOLOGY has 7 characters\n",
      "CHEMISTRY has 9 characters\n",
      "PR0GRAMMING has 11 characters\n"
     ]
    }
   ],
   "source": [
    "subjects = [subject.strip().upper() for subject in subjects] # clean each subject\n",
    "for subject in subjects: # iterate through the cleaned subjects\n",
    "    print(F\"{subject} has {len(subject)} characters\") # print the subject and its length\n",
    "    "
   ]
  },
  {
   "cell_type": "markdown",
   "id": "24406a2b",
   "metadata": {},
   "source": [
    "### regex"
   ]
  },
  {
   "cell_type": "code",
   "execution_count": 22,
   "id": "9347a377",
   "metadata": {},
   "outputs": [
    {
     "data": {
      "text/plain": [
       "['katt', 'hatt']"
      ]
     },
     "execution_count": 22,
     "metadata": {},
     "output_type": "execute_result"
    }
   ],
   "source": [
    "import re # import the regex module\n",
    "\n",
    "text = \"Det var en gång en katt som tog på sig en hatt.\" # a sample text\n",
    "match_list = re.findall(r\".att\", text) # find all words ending with \"att\"\n",
    "match_list # print the list of matches"
   ]
  },
  {
   "cell_type": "code",
   "execution_count": 26,
   "id": "68adc3fe",
   "metadata": {},
   "outputs": [
    {
     "data": {
      "text/plain": [
       "['19900101-1234', '19851212-4321']"
      ]
     },
     "execution_count": 26,
     "metadata": {},
     "output_type": "execute_result"
    }
   ],
   "source": [
    "personal_numbers = \"Ida: 19900101-1234, Anna: 19851212-4321, Erik: 000303-5678\"\n",
    "match_long = re.findall(r\"\\d{8}-\\d{4}\", personal_numbers) # find all personal numbers with 8 digits, a hyphen, and 4 digits\n",
    "match_long"
   ]
  },
  {
   "cell_type": "code",
   "execution_count": 28,
   "id": "8112a4a7",
   "metadata": {},
   "outputs": [
    {
     "data": {
      "text/plain": [
       "['900101-1234', '851212-4321', '000303-5678']"
      ]
     },
     "execution_count": 28,
     "metadata": {},
     "output_type": "execute_result"
    }
   ],
   "source": [
    "match_short = re.findall(r\"\\d{6}-\\d{4}\", personal_numbers) # find all personal numbers with 6 digits, a hyphen, and 4 digits\n",
    "match_short"
   ]
  },
  {
   "cell_type": "code",
   "execution_count": null,
   "id": "26fb1728",
   "metadata": {},
   "outputs": [],
   "source": []
  }
 ],
 "metadata": {
  "kernelspec": {
   "display_name": "python_christoffer_carlsson_DE25 (3.12.10)",
   "language": "python",
   "name": "python3"
  },
  "language_info": {
   "codemirror_mode": {
    "name": "ipython",
    "version": 3
   },
   "file_extension": ".py",
   "mimetype": "text/x-python",
   "name": "python",
   "nbconvert_exporter": "python",
   "pygments_lexer": "ipython3",
   "version": "3.12.10"
  }
 },
 "nbformat": 4,
 "nbformat_minor": 5
}
