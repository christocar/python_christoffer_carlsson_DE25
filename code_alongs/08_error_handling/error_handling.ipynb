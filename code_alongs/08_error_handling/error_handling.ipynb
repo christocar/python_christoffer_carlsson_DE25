{
 "cells": [
  {
   "cell_type": "markdown",
   "id": "178b99ae",
   "metadata": {},
   "source": [
    "# error handling"
   ]
  },
  {
   "cell_type": "markdown",
   "id": "411acabd",
   "metadata": {},
   "source": [
    "##### syntax error"
   ]
  },
  {
   "cell_type": "code",
   "execution_count": null,
   "id": "f95d54ed",
   "metadata": {},
   "outputs": [
    {
     "ename": "SyntaxError",
     "evalue": "expected ':' (2777363162.py, line 1)",
     "output_type": "error",
     "traceback": [
      "  \u001b[36mCell\u001b[39m\u001b[36m \u001b[39m\u001b[32mIn[3]\u001b[39m\u001b[32m, line 1\u001b[39m\n\u001b[31m    \u001b[39m\u001b[31mif 5 < 7\u001b[39m\n            ^\n\u001b[31mSyntaxError\u001b[39m\u001b[31m:\u001b[39m expected ':'\n"
     ]
    }
   ],
   "source": [
    "if 5 < 7 # här saknas ett kolon\n",
    "    print(\"5 is less than 7\")\n",
    "else:\n",
    "    print(\"5 is not less than 7\")"
   ]
  },
  {
   "cell_type": "markdown",
   "id": "eabce4a2",
   "metadata": {},
   "source": [
    "##### exception errors or runtime errors"
   ]
  },
  {
   "cell_type": "code",
   "execution_count": 4,
   "id": "317265ca",
   "metadata": {},
   "outputs": [
    {
     "ename": "IndexError",
     "evalue": "list index out of range",
     "output_type": "error",
     "traceback": [
      "\u001b[31m---------------------------------------------------------------------------\u001b[39m",
      "\u001b[31mIndexError\u001b[39m                                Traceback (most recent call last)",
      "\u001b[36mCell\u001b[39m\u001b[36m \u001b[39m\u001b[32mIn[4]\u001b[39m\u001b[32m, line 2\u001b[39m\n\u001b[32m      1\u001b[39m numbers = \u001b[38;5;28mlist\u001b[39m(\u001b[38;5;28mrange\u001b[39m(\u001b[32m10\u001b[39m))\n\u001b[32m----> \u001b[39m\u001b[32m2\u001b[39m \u001b[43mnumbers\u001b[49m\u001b[43m[\u001b[49m\u001b[32;43m11\u001b[39;49m\u001b[43m]\u001b[49m \u001b[38;5;66;03m# index out of range error\u001b[39;00m\n",
      "\u001b[31mIndexError\u001b[39m: list index out of range"
     ]
    }
   ],
   "source": [
    "numbers = list(range(10))\n",
    "numbers[11] # index out of range error"
   ]
  },
  {
   "cell_type": "markdown",
   "id": "0d7b32d2",
   "metadata": {},
   "source": [
    "##### logical error"
   ]
  },
  {
   "cell_type": "code",
   "execution_count": 5,
   "id": "5ebdca6c",
   "metadata": {},
   "outputs": [
    {
     "name": "stdout",
     "output_type": "stream",
     "text": [
      "15.707963267948966\n"
     ]
    }
   ],
   "source": [
    "import numpy as np # for numerical operations\n",
    "\n",
    "area_circle = lambda radius: np.pi*radius # area of a circle given its radius\n",
    "\n",
    "print(area_circle(5)) # should be 78.53981633974483\n",
    "\n"
   ]
  },
  {
   "cell_type": "markdown",
   "id": "019a05a1",
   "metadata": {},
   "source": [
    "##### try - except"
   ]
  },
  {
   "cell_type": "code",
   "execution_count": 13,
   "id": "c82efd88",
   "metadata": {},
   "outputs": [
    {
     "name": "stdout",
     "output_type": "stream",
     "text": [
      "Invalid input: Age must be between 1 and 124\n"
     ]
    }
   ],
   "source": [
    "age = input(\"Enter your age: \") # user input is always a string\n",
    "\n",
    "try:\n",
    "    age= float(age) # convert to float\n",
    "    if not 0 < age < 125: # valid age range\n",
    "        raise ValueError(\"Age must be between 1 and 124\") # raise an error if not valid\n",
    "    print(f\"Your age is {age} years old \") # print age if valid\n",
    "except ValueError as e: # catch value error\n",
    "    print(f\"Invalid input: {e}\") # print error message"
   ]
  },
  {
   "cell_type": "code",
   "execution_count": 15,
   "id": "3c545663",
   "metadata": {},
   "outputs": [
    {
     "name": "stdout",
     "output_type": "stream",
     "text": [
      "Invalid input: could not convert string to float: 'five'\n",
      "Your age is 37.0 years old \n"
     ]
    }
   ],
   "source": [
    "while True:\n",
    "    age = input(\"Enter your age: \")  # user input is always a string\n",
    "    try:\n",
    "        age = float(age)  # convert to float\n",
    "        if not 0 < age < 125:  # valid age range\n",
    "            raise ValueError(\"Age must be between 1 and 124\")  # raise an error if not valid\n",
    "        print(f\"Your age is {age} years old \")  # print age if valid\n",
    "        break  # exit loop if input is valid\n",
    "    except ValueError as e:  # catch value error\n",
    "        print(f\"Invalid input: {e}\")  # print error message"
   ]
  },
  {
   "cell_type": "code",
   "execution_count": null,
   "id": "4960b74a",
   "metadata": {},
   "outputs": [],
   "source": []
  }
 ],
 "metadata": {
  "kernelspec": {
   "display_name": "python_christoffer_carlsson_DE25 (3.12.10)",
   "language": "python",
   "name": "python3"
  },
  "language_info": {
   "codemirror_mode": {
    "name": "ipython",
    "version": 3
   },
   "file_extension": ".py",
   "mimetype": "text/x-python",
   "name": "python",
   "nbconvert_exporter": "python",
   "pygments_lexer": "ipython3",
   "version": "3.12.10"
  }
 },
 "nbformat": 4,
 "nbformat_minor": 5
}
