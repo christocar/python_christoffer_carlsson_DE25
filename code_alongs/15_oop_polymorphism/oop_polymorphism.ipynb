{
 "cells": [
  {
   "cell_type": "markdown",
   "id": "4da7a65b",
   "metadata": {},
   "source": [
    "# oop Polymorphism"
   ]
  },
  {
   "cell_type": "markdown",
   "id": "537a0a90",
   "metadata": {},
   "source": []
  }
 ],
 "metadata": {
  "language_info": {
   "name": "python"
  }
 },
 "nbformat": 4,
 "nbformat_minor": 5
}
