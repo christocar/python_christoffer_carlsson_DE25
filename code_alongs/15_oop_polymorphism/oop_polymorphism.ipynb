{
 "cells": [
  {
   "cell_type": "markdown",
   "id": "4da7a65b",
   "metadata": {},
   "source": [
    "# oop Polymorphism"
   ]
  },
  {
   "cell_type": "code",
   "execution_count": 2,
   "id": "9864e2bc",
   "metadata": {},
   "outputs": [
    {
     "name": "stdout",
     "output_type": "stream",
     "text": [
      "I am a fish, my name is Fisky\n",
      "fish Fisky says blub blub\n",
      "I am a fish, my name is Goldy\n",
      "fish Goldy says blub blub\n",
      "I am a fox, my name is Ylvis\n"
     ]
    }
   ],
   "source": [
    "class Fish:\n",
    "    def __init__(self, name):\n",
    "        self.name = name\n",
    "\n",
    "    def __str__(self):\n",
    "        return f\"I am a fish, my name is {self.name}\"\n",
    "\n",
    "    def speak(self):\n",
    "        print(f\"fish {self.name} says blub blub\")\n",
    "\n",
    "class Fox:\n",
    "    def __init__(self, name):\n",
    "        self.name = name\n",
    "\n",
    "    def __str__(self):\n",
    "        return f\"I am a fox, my name is {self.name}\"\n",
    "\n",
    "    def speak(self):\n",
    "        return NotImplemented\n",
    "\n",
    "\n",
    "animals = [Fish(\"Fisky\"), Fish(\"Goldy\"), Fox(\"Ylvis\")]\n",
    "\n",
    "for animal in animals:\n",
    "    print(animal)\n",
    "    animal.speak()"
   ]
  },
  {
   "cell_type": "markdown",
   "id": "707f8000",
   "metadata": {},
   "source": [
    "## operator overloading"
   ]
  },
  {
   "cell_type": "code",
   "execution_count": 7,
   "id": "ee1d3ff2",
   "metadata": {},
   "outputs": [
    {
     "name": "stdout",
     "output_type": "stream",
     "text": [
      "<class 'tuple'>\n",
      "(1, 2)\n",
      "<class 'tuple'>\n",
      "('1', 2)\n",
      "Value must be a number, not <class 'str'>\n",
      "<class 'tuple'>\n",
      "()\n",
      "Vector can't be empty\n"
     ]
    }
   ],
   "source": [
    "from numbers import Number\n",
    "from utils import validate_number\n",
    "\n",
    "class Vector:\n",
    "    \"\"\"A class representing a Euclidean vector\"\"\"\n",
    "    def __init__(self, *numbers):\n",
    "        print(type(numbers))\n",
    "        print(numbers)\n",
    "\n",
    "        for number in numbers:\n",
    "            validate_number(number)\n",
    "        \n",
    "        if len(numbers) <= 0:\n",
    "            raise ValueError(\"Vector can't be empty\")\n",
    "        \n",
    "        self._numbers = numbers  \n",
    "\n",
    "    @property\n",
    "    def numbers(self):\n",
    "        return self._numbers\n",
    "\n",
    "v1 = Vector(1, 2)\n",
    "try:\n",
    "    v2 = Vector(\"1\", 2)\n",
    "except TypeError as err:\n",
    "    print(err)\n",
    "\n",
    "try:\n",
    "    v2 = Vector()\n",
    "except ValueError as err:\n",
    "    print(err)"
   ]
  },
  {
   "cell_type": "code",
   "execution_count": 37,
   "id": "2f4d1998",
   "metadata": {},
   "outputs": [
    {
     "name": "stdout",
     "output_type": "stream",
     "text": [
      "len(v3) = 2\n",
      "len(v4) = 6\n",
      "Vector(1, 1) Vector(1, 2, 41, 5, 2, 6)\n",
      "v5+v3 = None\n",
      "v3+v5 = None\n",
      "v5-v3 = Vector(1, -2)\n",
      "v3-v5 = Vector(-1, 2)\n",
      "v4[-1] = 6\n",
      "v4[2:] = (41, 5, 2, 6)\n",
      "v3 * 5 = Vector(5, 5)\n"
     ]
    },
    {
     "data": {
      "text/plain": [
       "Vector(5, 5)"
      ]
     },
     "execution_count": 37,
     "metadata": {},
     "output_type": "execute_result"
    }
   ],
   "source": [
    "class Vector:\n",
    "    \"\"\"A class representing a Euclidean vector\"\"\"\n",
    "    def __init__(self, *numbers):\n",
    "        \n",
    "        for number in numbers:\n",
    "            validate_number(number)\n",
    "        \n",
    "        if len(numbers) <= 0:\n",
    "            raise ValueError(\"Vector can't be empty\")\n",
    "        \n",
    "        self._numbers = numbers  \n",
    "\n",
    "    # read-only property\n",
    "    @property\n",
    "    def numbers(self) -> tuple:\n",
    "        return self._numbers\n",
    "    \n",
    "    def __repr__(self):\n",
    "        return f\"Vector{self.numbers}\"\n",
    "    \n",
    "    # operator overloading -> makes it possible to use length function on vector\n",
    "    def __len__(self) -> int:\n",
    "        return len(self.numbers)\n",
    "    \n",
    "    # elementwise addition between 2 tuples\n",
    "    def __add__(self, other: Vector) -> \"Vector\":\n",
    "        numbers = (a + b for a, b in zip(self.numbers, other.numbers))\n",
    "\n",
    "    def __sub__(self, other: Vector) -> \"Vector\":\n",
    "        numbers = (a - b for a, b in zip(self.numbers, other.numbers))\n",
    "        return Vector(*numbers)\n",
    "    \n",
    "    def __getitem__(self, item: int) -> Number:\n",
    "        return self.numbers[item]\n",
    "    \n",
    "    def __mul__(self, number: Number) -> Vector:\n",
    "        numbers = (number * a for a in self.numbers)\n",
    "        return Vector(*numbers)\n",
    "    \n",
    "    def __rmul__(self, number: Number) -> Vector:\n",
    "        return self * number\n",
    "\n",
    "v3 = Vector(1, 1)\n",
    "v4 = Vector(1, 2, 41, 5, 2, 6)\n",
    "v5 = Vector(2, -1)\n",
    "\n",
    "print(f\"{len(v3) = }\")\n",
    "print(f\"{len(v4) = }\")\n",
    "print(v3, v4)\n",
    "print(f\"{v5+v3 = }\")\n",
    "print(f\"{v3+v5 = }\")\n",
    "print(f\"{v5-v3 = }\")\n",
    "print(f\"{v3-v5 = }\")\n",
    "print(f\"{v4[-1] = }\")\n",
    "print(f\"{v4[2:] = }\")\n",
    "print(f\"{v3 * 5 = }\")\n",
    "\n",
    "5 * v3"
   ]
  },
  {
   "cell_type": "code",
   "execution_count": 27,
   "id": "8f3a7888",
   "metadata": {},
   "outputs": [
    {
     "name": "stdout",
     "output_type": "stream",
     "text": [
      "2\n"
     ]
    },
    {
     "data": {
      "text/plain": [
       "(2, 6)"
      ]
     },
     "execution_count": 27,
     "metadata": {},
     "output_type": "execute_result"
    }
   ],
   "source": [
    "print(len([1,2]))\n",
    "\n",
    "len(v3), len(v4)"
   ]
  },
  {
   "cell_type": "markdown",
   "id": "537a0a90",
   "metadata": {},
   "source": []
  }
 ],
 "metadata": {
  "kernelspec": {
   "display_name": "Python 3",
   "language": "python",
   "name": "python3"
  },
  "language_info": {
   "codemirror_mode": {
    "name": "ipython",
    "version": 3
   },
   "file_extension": ".py",
   "mimetype": "text/x-python",
   "name": "python",
   "nbconvert_exporter": "python",
   "pygments_lexer": "ipython3",
   "version": "3.12.10"
  }
 },
 "nbformat": 4,
 "nbformat_minor": 5
}
