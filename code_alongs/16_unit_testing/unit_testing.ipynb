{
 "cells": [
  {
   "cell_type": "markdown",
   "id": "71c16593",
   "metadata": {},
   "source": [
    "# manual testing of Vector class"
   ]
  },
  {
   "cell_type": "markdown",
   "id": "5807afcc",
   "metadata": {},
   "source": [
    "## a few tests that we expect will work"
   ]
  },
  {
   "cell_type": "code",
   "execution_count": 6,
   "id": "8100474a",
   "metadata": {},
   "outputs": [
    {
     "data": {
      "text/plain": [
       "(Vector(2.0, 5.0), Vector(-1.0, 1.0))"
      ]
     },
     "execution_count": 6,
     "metadata": {},
     "output_type": "execute_result"
    }
   ],
   "source": [
    "from vector import Vector\n",
    "\n",
    "# vector with coordinate 2 and 5\n",
    "v1 = Vector(2,5)\n",
    "v2 = Vector(-1,1)\n",
    "v1, v2"
   ]
  },
  {
   "cell_type": "code",
   "execution_count": 7,
   "id": "395cb20c",
   "metadata": {},
   "outputs": [
    {
     "name": "stdout",
     "output_type": "stream",
     "text": [
      "len(v1) = 2\n",
      "v1.numbers = (2.0, 5.0)\n",
      "v1 + v2 = Vector(1.0, 6.0)\n"
     ]
    }
   ],
   "source": [
    "print(f\"{len(v1) = }\")\n",
    "print(f\"{v1.numbers = }\")\n",
    "print(f\"{v1 + v2 = }\")"
   ]
  },
  {
   "cell_type": "markdown",
   "id": "ae35231e",
   "metadata": {},
   "source": [
    "## testing correct errors"
   ]
  },
  {
   "cell_type": "code",
   "execution_count": 14,
   "id": "3580aec3",
   "metadata": {},
   "outputs": [
    {
     "name": "stdout",
     "output_type": "stream",
     "text": [
      "1 is not valid number in a vector\n"
     ]
    }
   ],
   "source": [
    "try:\n",
    "    Vector(\"1\",1)\n",
    "except TypeError as err:\n",
    "    print(err)"
   ]
  },
  {
   "cell_type": "code",
   "execution_count": 17,
   "id": "698a6a25",
   "metadata": {},
   "outputs": [
    {
     "data": {
      "text/plain": [
       "\"'1'\""
      ]
     },
     "execution_count": 17,
     "metadata": {},
     "output_type": "execute_result"
    }
   ],
   "source": [
    "repr(\"1\")"
   ]
  },
  {
   "cell_type": "code",
   "execution_count": 18,
   "id": "6760fdeb",
   "metadata": {},
   "outputs": [
    {
     "name": "stdout",
     "output_type": "stream",
     "text": [
      "Both must be Vector and have the same length\n"
     ]
    }
   ],
   "source": [
    "v1 = Vector(1,2)\n",
    "v2 = Vector(1,2,3)\n",
    "\n",
    "\n",
    "try:\n",
    "    v1 + v2\n",
    "except TypeError as err:\n",
    "    print(err)"
   ]
  },
  {
   "cell_type": "markdown",
   "id": "e0cf8a65",
   "metadata": {},
   "source": []
  },
  {
   "cell_type": "markdown",
   "id": "075a3bc1",
   "metadata": {},
   "source": [
    "##### assert will be used in automatical testing"
   ]
  },
  {
   "cell_type": "code",
   "execution_count": 19,
   "id": "7019736b",
   "metadata": {},
   "outputs": [],
   "source": [
    "x = 5\n",
    "\n",
    "assert x == 5"
   ]
  },
  {
   "cell_type": "code",
   "execution_count": 20,
   "id": "e5f6514a",
   "metadata": {},
   "outputs": [
    {
     "ename": "AssertionError",
     "evalue": "",
     "output_type": "error",
     "traceback": [
      "\u001b[31m---------------------------------------------------------------------------\u001b[39m",
      "\u001b[31mAssertionError\u001b[39m                            Traceback (most recent call last)",
      "\u001b[36mCell\u001b[39m\u001b[36m \u001b[39m\u001b[32mIn[20]\u001b[39m\u001b[32m, line 1\u001b[39m\n\u001b[32m----> \u001b[39m\u001b[32m1\u001b[39m \u001b[38;5;28;01massert\u001b[39;00m x == \u001b[32m4\u001b[39m\n",
      "\u001b[31mAssertionError\u001b[39m: "
     ]
    }
   ],
   "source": [
    "assert x == 4"
   ]
  },
  {
   "cell_type": "markdown",
   "id": "25d8c783",
   "metadata": {},
   "source": []
  }
 ],
 "metadata": {
  "kernelspec": {
   "display_name": "Python 3",
   "language": "python",
   "name": "python3"
  },
  "language_info": {
   "codemirror_mode": {
    "name": "ipython",
    "version": 3
   },
   "file_extension": ".py",
   "mimetype": "text/x-python",
   "name": "python",
   "nbconvert_exporter": "python",
   "pygments_lexer": "ipython3",
   "version": "3.12.10"
  }
 },
 "nbformat": 4,
 "nbformat_minor": 5
}
