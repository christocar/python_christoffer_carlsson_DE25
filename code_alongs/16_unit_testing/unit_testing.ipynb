{
 "cells": [
  {
   "cell_type": "markdown",
   "id": "71c16593",
   "metadata": {},
   "source": [
    "# unit testing"
   ]
  },
  {
   "cell_type": "code",
   "execution_count": null,
   "id": "8100474a",
   "metadata": {},
   "outputs": [],
   "source": []
  },
  {
   "cell_type": "markdown",
   "id": "ae35231e",
   "metadata": {},
   "source": []
  }
 ],
 "metadata": {
  "kernelspec": {
   "display_name": "Python 3",
   "language": "python",
   "name": "python3"
  },
  "language_info": {
   "name": "python",
   "version": "3.12.10"
  }
 },
 "nbformat": 4,
 "nbformat_minor": 5
}
