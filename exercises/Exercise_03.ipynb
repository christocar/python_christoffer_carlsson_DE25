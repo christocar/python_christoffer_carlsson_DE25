{
 "cells": [
  {
   "cell_type": "markdown",
   "id": "f79e4638",
   "metadata": {},
   "source": [
    "# Exercise 0. Dice rolls"
   ]
  },
  {
   "cell_type": "code",
   "execution_count": null,
   "id": "d4beb12e",
   "metadata": {},
   "outputs": [],
   "source": [
    "# simulate 10 dice rolls\n",
    "import random\n"
   ]
  },
  {
   "cell_type": "code",
   "execution_count": 6,
   "id": "7a05ee72",
   "metadata": {},
   "outputs": [
    {
     "name": "stdout",
     "output_type": "stream",
     "text": [
      "Dice rolls: [4, 6, 6, 4, 3, 1, 5, 2, 5, 1]\n",
      "sorted in ascending order: [1, 1, 2, 3, 4, 4, 5, 5, 6, 6]\n",
      "sorted in descending order: [6, 6, 5, 5, 4, 4, 3, 2, 1, 1]\n",
      "max value: 6\n",
      "min value: 1\n",
      "average value: 3.7\n",
      "median value: 4\n",
      "unique values: [1, 2, 3, 4, 5, 6]\n"
     ]
    }
   ],
   "source": [
    "dice_rolls = [random.randint(1, 6) for _ in range(10)]\n",
    "print(\"Dice rolls:\", dice_rolls)\n",
    "# sort the dice rolls in ascending order\n",
    "ascending = sorted(dice_rolls)\n",
    "print(\"sorted in ascending order:\", ascending)\n",
    "# sort the dice rolls in descending order\n",
    "descending = sorted(dice_rolls, reverse=True)\n",
    "print(\"sorted in descending order:\", descending)\n",
    "# Max and min values\n",
    "print(\"max value:\", max(dice_rolls))\n",
    "print(\"min value:\", min(dice_rolls))\n",
    "# Average value\n",
    "average = sum(dice_rolls) / len(dice_rolls)\n",
    "print(\"average value:\", average)\n",
    "# Median value\n",
    "median = sorted(dice_rolls)[len(dice_rolls) // 2]\n",
    "print(\"median value:\", median)\n",
    "# unique values\n",
    "unique_values = list(set(dice_rolls))\n",
    "print(\"unique values:\", unique_values)\n"
   ]
  },
  {
   "cell_type": "markdown",
   "id": "f548110a",
   "metadata": {},
   "source": [
    "Exercise 1. Food menu"
   ]
  },
  {
   "cell_type": "code",
   "execution_count": null,
   "id": "fd72386f",
   "metadata": {},
   "outputs": [
    {
     "name": "stdout",
     "output_type": "stream",
     "text": [
      "Monday: vegetarian lasagna\n",
      "Tuesday: spaghetti\n",
      "Wednesday: fish\n",
      "Thursday: soup\n",
      "Friday: pancakes\n",
      "Saturday: vegetarian lasagna\n",
      "Sunday: spaghetti\n"
     ]
    },
    {
     "ename": "",
     "evalue": "",
     "output_type": "error",
     "traceback": [
      "\u001b[1;31mThe Kernel crashed while executing code in the current cell or a previous cell. \n",
      "\u001b[1;31mPlease review the code in the cell(s) to identify a possible cause of the failure. \n",
      "\u001b[1;31mClick <a href='https://aka.ms/vscodeJupyterKernelCrash'>here</a> for more info. \n",
      "\u001b[1;31mView Jupyter <a href='command:jupyter.viewOutput'>log</a> for further details."
     ]
    }
   ],
   "source": [
    "# create a food menu as a list of elements\n",
    "food_menu = [\"vegetarian lasagna\", \"spaghetti\", \"fish\", \"soup\", \"pancakes\"]\n",
    "weekdays = [\"monday\", \"tuesday\", \"wednesday\", \"thursday\", \"friday\", \"saturday\", \"sunday\"]\n",
    "# print the food menu for each weekday\n",
    "for day in weekdays:\n",
    "    print(f\"{day.capitalize()}: {food_menu[weekdays.index(day) % len(food_menu)]}\")\n",
    "    \n",
    "\n"
   ]
  },
  {
   "cell_type": "code",
   "execution_count": null,
   "id": "4604efae",
   "metadata": {},
   "outputs": [],
   "source": []
  }
 ],
 "metadata": {
  "kernelspec": {
   "display_name": "python_christoffer_carlsson_DE25 (3.12.10)",
   "language": "python",
   "name": "python3"
  },
  "language_info": {
   "codemirror_mode": {
    "name": "ipython",
    "version": 3
   },
   "file_extension": ".py",
   "mimetype": "text/x-python",
   "name": "python",
   "nbconvert_exporter": "python",
   "pygments_lexer": "ipython3",
   "version": "3.12.10"
  }
 },
 "nbformat": 4,
 "nbformat_minor": 5
}
