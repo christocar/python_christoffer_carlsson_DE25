{
 "cells": [
  {
   "cell_type": "code",
   "execution_count": 4,
   "id": "4cbdee97",
   "metadata": {},
   "outputs": [],
   "source": [
    "# Exercise 01\n",
    "#Exercise 1 - Count with python"
   ]
  },
  {
   "cell_type": "code",
   "execution_count": 5,
   "id": "278a47b2",
   "metadata": {},
   "outputs": [],
   "source": [
    "import math"
   ]
  },
  {
   "cell_type": "code",
   "execution_count": 12,
   "id": "5b132b5c",
   "metadata": {},
   "outputs": [
    {
     "name": "stdout",
     "output_type": "stream",
     "text": [
      "The hypotenuse is: 5.0\n"
     ]
    }
   ],
   "source": [
    "# Task a\n",
    "# Calculate the hypotenuse of a right-angled triangle\n",
    "# a and b are the legs (catheti)\n",
    "a = 3\n",
    "b = 4\n",
    "c = math.sqrt(a**2 + b**2)\n",
    "print(\"The hypotenuse is:\", c)"
   ]
  },
  {
   "cell_type": "code",
   "execution_count": 7,
   "id": "8fdcbd50",
   "metadata": {},
   "outputs": [
    {
     "name": "stdout",
     "output_type": "stream",
     "text": [
      "The other leg b is: 4.9\n"
     ]
    }
   ],
   "source": [
    "# Task b\n",
    "# Calculate the other leg (b) of a right-angled triangle\n",
    "# c is the hypotenuse, a and b are the legs\n",
    "c = 7\n",
    "a = 5\n",
    "b = math.sqrt(c**2 - a**2)\n",
    "\n",
    "# round to one decimal\n",
    "b_rounded = round(b, 1)\n",
    "\n",
    "print(\"The other leg b is:\", b_rounded)"
   ]
  },
  {
   "cell_type": "code",
   "execution_count": 8,
   "id": "a3a4e5b0",
   "metadata": {},
   "outputs": [],
   "source": [
    "# Exervcise 2 - Classification accuracy\n"
   ]
  },
  {
   "cell_type": "code",
   "execution_count": 9,
   "id": "20c6447d",
   "metadata": {},
   "outputs": [
    {
     "name": "stdout",
     "output_type": "stream",
     "text": [
      "Model Accuracy: 98.70%\n"
     ]
    }
   ],
   "source": [
    "# Fire detection model results\n",
    "TP = 2   # True Positives\n",
    "FP = 2   # False Positives\n",
    "FN = 11  # False Negatives\n",
    "TN = 985 # True Negatives\n",
    "\n",
    "# Accuracy formula\n",
    "accuracy = (TP + TN) / (TP + TN + FP + FN)\n",
    "\n",
    "# Show the result\n",
    "print(f\"Model Accuracy: {accuracy:.2%}\")"
   ]
  },
  {
   "cell_type": "code",
   "execution_count": 10,
   "id": "b740c6e6",
   "metadata": {},
   "outputs": [
    {
     "data": {
      "text/plain": [
       "'\\nConclusion: The model has an accuracy of 98.7%, which indicates it performs well in distinguishing \\nbetween fire and non-fire instances.\\nHowever, the presence of false negatives (11 cases) suggests that the model may miss some fire events, \\nwhich could be critical in real-world applications. Further improvements may be needed to reduce false \\nnegatives while maintaining high accuracy.\\n'"
      ]
     },
     "execution_count": 10,
     "metadata": {},
     "output_type": "execute_result"
    }
   ],
   "source": [
    "\"\"\"\n",
    "Conclusion: The model has an accuracy of 98.7%, which indicates it performs well in distinguishing \n",
    "between fire and non-fire instances.\n",
    "However, the presence of false negatives (11 cases) suggests that the model may miss some fire events, \n",
    "which could be critical in real-world applications. Further improvements may be needed to reduce false \n",
    "negatives while maintaining high accuracy.\n",
    "\"\"\""
   ]
  },
  {
   "cell_type": "code",
   "execution_count": 11,
   "id": "b9eb07fc",
   "metadata": {},
   "outputs": [
    {
     "name": "stdout",
     "output_type": "stream",
     "text": [
      "=== File metadata ===\n",
      "Filename: sales_data.csv\n",
      "Size (MB): 24.7\n",
      "Last Modified Year: 2023\n"
     ]
    }
   ],
   "source": [
    "# Exercice 3 File metadata - format print.\n",
    "# Original file metadata\n",
    "filename = \"sales_data.csv\"\n",
    "file_size_mb = 24.7\n",
    "last_modified_year = 2023\n",
    "\n",
    "# Print formatted output\n",
    "print(\"=== File metadata ===\")\n",
    "print(f\"Filename: {filename}\")\n",
    "print(f\"Size (MB): {file_size_mb}\")\n",
    "print(f\"Last Modified Year: {last_modified_year}\")"
   ]
  },
  {
   "cell_type": "code",
   "execution_count": 14,
   "id": "7aa67c83",
   "metadata": {},
   "outputs": [
    {
     "name": "stdout",
     "output_type": "stream",
     "text": [
      "3.0 inches is equal to 7.62 cm\n"
     ]
    }
   ],
   "source": [
    "# Exercise 4 Unit converter - inches to centimeters\n",
    "\n",
    "# 📏 Conversion factor\n",
    "INCH_TO_CM = 2.54\n",
    "\n",
    "# 🧑‍💻 Ask user for input\n",
    "inches = float(input(\"Enter screen size in inches: \"))\n",
    "\n",
    "# 🔁 Convert to centimeters\n",
    "centimeters = inches * INCH_TO_CM\n",
    "\n",
    "# 📢 Show result\n",
    "print(f\"{inches} inches is equal to {centimeters:.2f} cm\")"
   ]
  },
  {
   "cell_type": "code",
   "execution_count": 16,
   "id": "36a080f5",
   "metadata": {},
   "outputs": [
    {
     "name": "stdout",
     "output_type": "stream",
     "text": [
      "Your text has 16 characters.\n",
      "You wrote: what an exercise\n"
     ]
    }
   ],
   "source": [
    "# Exercise 5 Count the characters in a text\n",
    "\n",
    "# Ask the user to enter some text\n",
    "user_text = input(\"Enter your text: \")\n",
    "\n",
    "# Count the number of characters (including spaces)\n",
    "character_count = len(user_text)\n",
    "\n",
    "# Show the result\n",
    "print(f\"Your text has {character_count} characters.\")\n",
    "print(\"You wrote:\", user_text)\n"
   ]
  },
  {
   "cell_type": "code",
   "execution_count": 17,
   "id": "dd1465f1",
   "metadata": {},
   "outputs": [
    {
     "name": "stdout",
     "output_type": "stream",
     "text": [
      "radius = 5 has type <class 'int'>\n",
      "PI = 3.1415 has type <class 'float'>\n",
      "cool_subject = 'math' has type <class 'str'>\n",
      "is_cool = True has type <class 'bool'>\n",
      "numbers = [1, 2, 41, 2] has type <class 'list'>\n"
     ]
    }
   ],
   "source": [
    "# Exercise 6 Data types\n",
    "\n",
    "# 🧪 Create variables of different types\n",
    "radius = 5                      # int\n",
    "PI = 3.1415                     # float\n",
    "cool_subject = 'math'          # str\n",
    "is_cool = True                 # bool\n",
    "numbers = [1, 2, 41, 2]        # list\n",
    "\n",
    "# 🔍 Check and print their types\n",
    "print(f\"radius = {radius} has type {type(radius)}\")\n",
    "print(f\"PI = {PI} has type {type(PI)}\")\n",
    "print(f\"cool_subject = '{cool_subject}' has type {type(cool_subject)}\")\n",
    "print(f\"is_cool = {is_cool} has type {type(is_cool)}\")\n",
    "print(f\"numbers = {numbers} has type {type(numbers)}\")"
   ]
  },
  {
   "cell_type": "code",
   "execution_count": null,
   "id": "641fc6ba",
   "metadata": {},
   "outputs": [
    {
     "name": "stdout",
     "output_type": "stream",
     "text": [
      "Hello, Christoffer!\n"
     ]
    }
   ],
   "source": [
    "# Exercise 7 Theory\n",
    "\n",
    "#Exercise A What is the difference between input() and print()?\n",
    "#input() lets the user type something into the program.\n",
    "\n",
    "#print() shows something on the screen.\n",
    "\n",
    "name = input(\"What's your name?\")  # User types their name\n",
    "print(f\"Hello, {name}!\")           # Program prints a greeting"
   ]
  },
  {
   "cell_type": "code",
   "execution_count": 26,
   "id": "650f5c6f",
   "metadata": {},
   "outputs": [
    {
     "name": "stdout",
     "output_type": "stream",
     "text": [
      "You are 37 years old and 1.82 cm tall.\n"
     ]
    }
   ],
   "source": [
    "#Exercise B What type of data does input() return?\n",
    "\n",
    "#By default, input() returns a string (str), even if the user types a number.\n",
    "\n",
    "#To get numeric input:\n",
    "\n",
    "age = int(input(\"Enter your age: \"))     # Converts to integer\n",
    "height = float(input(\"Enter height in m: \"))  # Converts to float\n",
    "print(f\"You are {age} years old and {height} cm tall.\")"
   ]
  },
  {
   "cell_type": "code",
   "execution_count": 27,
   "id": "6e48768f",
   "metadata": {},
   "outputs": [
    {
     "name": "stdout",
     "output_type": "stream",
     "text": [
      "Alice scored 95 points!\n"
     ]
    }
   ],
   "source": [
    "#Exercise C Why should you use f-strings (formatted strings)?\n",
    "\n",
    "# F-strings provide a concise and readable way to embed expressions inside string literals,\n",
    "# making it easier to format and display dynamic content.\n",
    "\n",
    "name = \"Alice\"\n",
    "score = 95\n",
    "print(f\"{name} scored {score} points!\")  # Easy to read and write\n"
   ]
  },
  {
   "cell_type": "code",
   "execution_count": 28,
   "id": "96479045",
   "metadata": {},
   "outputs": [
    {
     "name": "stdout",
     "output_type": "stream",
     "text": [
      "x is now: [10, 'ten'] with type <class 'list'>\n"
     ]
    }
   ],
   "source": [
    "# Exercise D Can a variable change its type after it has been created?\n",
    "\n",
    "# Yes, in Python, a variable can change its type after it has been created.\n",
    "# Python is a dynamically typed language, which means that the type of a variable is determined at\n",
    "# runtime based on the value assigned to it. You can reassign a variable to a value of a different type.\n",
    "\n",
    "x = 10          # x is an int\n",
    "x = \"ten\"       # now x is a str\n",
    "x = [10, \"ten\"] # now x is a list\n",
    "print(f\"x is now: {x} with type {type(x)}\")\n"
   ]
  },
  {
   "cell_type": "code",
   "execution_count": 3,
   "id": "b937624b",
   "metadata": {},
   "outputs": [
    {
     "name": "stdout",
     "output_type": "stream",
     "text": [
      "x is now: five with type <class 'str'>\n"
     ]
    }
   ],
   "source": [
    "#Exercise E What Does \"Dynamically Typed\" Mean?\n",
    "\n",
    "# In a dynamically typed language like Python, the type of a variable is determined at runtime based on \n",
    "# the value assigned to it.\n",
    "\n",
    "# This means you don't have to declare the type of a variable when you create it, and you can change\n",
    "# the type by assigning a value of a different type to the same variable.\n",
    "\n",
    "x = 5       # Python knows x is an int\n",
    "x = \"five\"  # Now x is a str — no error!\n",
    "print(f\"x is now: {x} with type {type(x)}\")"
   ]
  },
  {
   "cell_type": "code",
   "execution_count": null,
   "id": "f59306a1",
   "metadata": {},
   "outputs": [],
   "source": []
  }
 ],
 "metadata": {
  "kernelspec": {
   "display_name": "python_christoffer_carlsson_DE25",
   "language": "python",
   "name": "python3"
  },
  "language_info": {
   "codemirror_mode": {
    "name": "ipython",
    "version": 3
   },
   "file_extension": ".py",
   "mimetype": "text/x-python",
   "name": "python",
   "nbconvert_exporter": "python",
   "pygments_lexer": "ipython3",
   "version": "3.12.10"
  }
 },
 "nbformat": 4,
 "nbformat_minor": 5
}
