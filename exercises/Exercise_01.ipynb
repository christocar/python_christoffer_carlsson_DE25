{
 "cells": [
  {
   "cell_type": "code",
   "execution_count": null,
   "id": "4cbdee97",
   "metadata": {},
   "outputs": [],
   "source": [
    "# Exercise 01\n",
    "#Exercise 1 - Count with python"
   ]
  },
  {
   "cell_type": "code",
   "execution_count": 3,
   "id": "278a47b2",
   "metadata": {},
   "outputs": [],
   "source": [
    "import math"
   ]
  },
  {
   "cell_type": "code",
   "execution_count": 6,
   "id": "5b132b5c",
   "metadata": {},
   "outputs": [
    {
     "name": "stdout",
     "output_type": "stream",
     "text": [
      "The hypotenuse is: 5.0\n"
     ]
    }
   ],
   "source": [
    "# Task a\n",
    "# Calculate the hypotenuse of a right-angled triangle\n",
    "# a and b are the legs (catheti)\n",
    "a = 3\n",
    "b = 4\n",
    "c = math.sqrt(a**2 + b**2)\n",
    "print(\"The hypotenuse is:\", c)"
   ]
  },
  {
   "cell_type": "code",
   "execution_count": 8,
   "id": "8fdcbd50",
   "metadata": {},
   "outputs": [
    {
     "name": "stdout",
     "output_type": "stream",
     "text": [
      "The other leg b is: 4.9\n"
     ]
    }
   ],
   "source": [
    "# Task b\n",
    "# Calculate the other leg (b) of a right-angled triangle\n",
    "# c is the hypotenuse, a and b are the legs\n",
    "c = 7\n",
    "a = 5\n",
    "b = math.sqrt(c**2 - a**2)\n",
    "\n",
    "# round to one decimal\n",
    "b_rounded = round(b, 1)\n",
    "\n",
    "print(\"The other leg b is:\", b_rounded)"
   ]
  },
  {
   "cell_type": "code",
   "execution_count": 9,
   "id": "a3a4e5b0",
   "metadata": {},
   "outputs": [],
   "source": [
    "# Exervcise 2 - Classification accuracy\n"
   ]
  },
  {
   "cell_type": "code",
   "execution_count": 10,
   "id": "20c6447d",
   "metadata": {},
   "outputs": [
    {
     "name": "stdout",
     "output_type": "stream",
     "text": [
      "Model Accuracy: 98.70%\n"
     ]
    }
   ],
   "source": [
    "# Fire detection model results\n",
    "TP = 2   # True Positives\n",
    "FP = 2   # False Positives\n",
    "FN = 11  # False Negatives\n",
    "TN = 985 # True Negatives\n",
    "\n",
    "# Accuracy formula\n",
    "accuracy = (TP + TN) / (TP + TN + FP + FN)\n",
    "\n",
    "# Show the result\n",
    "print(f\"Model Accuracy: {accuracy:.2%}\")"
   ]
  },
  {
   "cell_type": "code",
   "execution_count": null,
   "id": "b740c6e6",
   "metadata": {},
   "outputs": [],
   "source": [
    "\"\"\"\n",
    "Conclusion: The model has an accuracy of 98.7%, which indicates it performs well in distinguishing \n",
    "between fire and non-fire instances.\n",
    "However, the presence of false negatives (11 cases) suggests that the model may miss some fire events, \n",
    "which could be critical in real-world applications. Further improvements may be needed to reduce false \n",
    "negatives while maintaining high accuracy.\n",
    "\"\"\""
   ]
  },
  {
   "cell_type": "code",
   "execution_count": 13,
   "id": "b9eb07fc",
   "metadata": {},
   "outputs": [
    {
     "name": "stdout",
     "output_type": "stream",
     "text": [
      "=== File metadata ===\n",
      "Filename: sales_data.csv\n",
      "Size (MB): 24.7\n",
      "Last Modified Year: 2023\n"
     ]
    }
   ],
   "source": [
    "# Exercice 3 File metadata - format print.\n",
    "# Original file metadata\n",
    "filename = \"sales_data.csv\"\n",
    "file_size_mb = 24.7\n",
    "last_modified_year = 2023\n",
    "\n",
    "# Print formatted output\n",
    "print(\"=== File metadata ===\")\n",
    "print(f\"Filename: {filename}\")\n",
    "print(f\"Size (MB): {file_size_mb}\")\n",
    "print(f\"Last Modified Year: {last_modified_year}\")"
   ]
  },
  {
   "cell_type": "code",
   "execution_count": 14,
   "id": "7aa67c83",
   "metadata": {},
   "outputs": [
    {
     "name": "stdout",
     "output_type": "stream",
     "text": [
      "3.0 inches is equal to 7.62 cm\n"
     ]
    }
   ],
   "source": [
    "# Exercise 4 Unit converter - inches to centimeters\n",
    "\n",
    "# 📏 Conversion factor\n",
    "INCH_TO_CM = 2.54\n",
    "\n",
    "# 🧑‍💻 Ask user for input\n",
    "inches = float(input(\"Enter screen size in inches: \"))\n",
    "\n",
    "# 🔁 Convert to centimeters\n",
    "centimeters = inches * INCH_TO_CM\n",
    "\n",
    "# 📢 Show result\n",
    "print(f\"{inches} inches is equal to {centimeters:.2f} cm\")"
   ]
  },
  {
   "cell_type": "code",
   "execution_count": null,
   "id": "36a080f5",
   "metadata": {},
   "outputs": [],
   "source": []
  }
 ],
 "metadata": {
  "kernelspec": {
   "display_name": "python_christoffer_carlsson_DE25",
   "language": "python",
   "name": "python3"
  },
  "language_info": {
   "codemirror_mode": {
    "name": "ipython",
    "version": 3
   },
   "file_extension": ".py",
   "mimetype": "text/x-python",
   "name": "python",
   "nbconvert_exporter": "python",
   "pygments_lexer": "ipython3",
   "version": "3.13.7"
  }
 },
 "nbformat": 4,
 "nbformat_minor": 5
}
