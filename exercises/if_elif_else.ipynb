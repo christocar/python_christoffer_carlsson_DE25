{
 "cells": [
  {
   "cell_type": "markdown",
   "id": "19698284",
   "metadata": {},
   "source": [
    "# Luggage size"
   ]
  },
  {
   "cell_type": "markdown",
   "id": "e7a7c43a",
   "metadata": {},
   "source": [
    "## ask user to input weight, height, width and depth\n",
    "\n",
    "- weightlimit is 8kg\n",
    "- dimension limits: 55x40x23"
   ]
  },
  {
   "cell_type": "code",
   "execution_count": 2,
   "id": "a9dbba2e",
   "metadata": {},
   "outputs": [
    {
     "name": "stdout",
     "output_type": "stream",
     "text": [
      "Your luggage is too heavy\n",
      "Your luggage dimensions are too big\n"
     ]
    }
   ],
   "source": [
    "weight = input(\"Enter your luggage weight in kg: \")\n",
    "height = input(\"Enter your luggage height in cm: \")\n",
    "width = input(\"Enter your luggage width in cm: \")\n",
    "depth = input(\"Enter your luggage depth in cm: \")\n",
    "weight = float(weight)\n",
    "height = float(height)\n",
    "width = float(width)\n",
    "depth = float(depth)\n",
    "if weight > 8:\n",
    "    print(\"Your luggage is too heavy\")\n",
    "else:\n",
    "    print(\"Your luggage weight is ok\")\n",
    "if height > 55 or width > 40 or depth > 23:\n",
    "    print(\"Your luggage dimensions are too big\")\n",
    "else:\n",
    "    print(\"Your luggage dimensions are ok\")\n",
    "if weight <= 8 and height <= 55 and width <= 40 and depth <= 23:\n",
    "    print(\"Your luggage is ok to take with you\")\n",
    "    \n"
   ]
  },
  {
   "cell_type": "markdown",
   "id": "6acdfbd6",
   "metadata": {},
   "source": [
    "## en robustare variant där användaren får ange dimensionerna i valfri ordning och får reda på mer info efter angiven data."
   ]
  },
  {
   "cell_type": "code",
   "execution_count": 8,
   "id": "7510fa77",
   "metadata": {},
   "outputs": [
    {
     "name": "stdout",
     "output_type": "stream",
     "text": [
      "Weight is ok (5.0 kg).\n",
      "Your luggage height is too big (8999.0 cm, max 55 cm).\n",
      "Width is ok (40.0 cm).\n",
      "Depth is ok (23.0 cm).\n",
      "\n",
      "Your luggage is NOT allowed on the plane due to exceeding weight or dimensions.\n",
      "If any number was entered incorrectly, please run the program again and enter the correct measurements.\n"
     ]
    }
   ],
   "source": [
    "# Flexible luggage checker with feedback and redo suggestion\n",
    "\n",
    "def get_positive_float(prompt):\n",
    "    while True:\n",
    "        try:\n",
    "            value = float(input(prompt))\n",
    "            if value <= 0:\n",
    "                print(\"Please enter a positive number.\")\n",
    "            else:\n",
    "                return value\n",
    "        except ValueError:\n",
    "            print(\"Invalid input, please enter a number.\")\n",
    "\n",
    "# Hämta vikt\n",
    "weight = get_positive_float(\"Enter your luggage weight in kg: \")\n",
    "\n",
    "# Hämta tre mått i valfri ordning\n",
    "dims = []\n",
    "for i in range(1, 4):\n",
    "    dims.append(get_positive_float(f\"Enter one of the three luggage dimensions (cm), number {i}: \"))\n",
    "\n",
    "# Maxgränser\n",
    "MAX_WEIGHT = 8\n",
    "MAX_HEIGHT = 55\n",
    "MAX_WIDTH  = 40\n",
    "MAX_DEPTH  = 23\n",
    "\n",
    "# Lista med maxmåtten, sorterade största först\n",
    "max_dims = sorted([MAX_HEIGHT, MAX_WIDTH, MAX_DEPTH], reverse=True)\n",
    "# Sortera användarens mått största först\n",
    "dims_sorted = sorted(dims, reverse=True)\n",
    "\n",
    "# Kontrollera vikt\n",
    "if weight > MAX_WEIGHT:\n",
    "    print(f\"Your luggage is too heavy ({weight} kg, max {MAX_WEIGHT} kg).\")\n",
    "else:\n",
    "    print(f\"Weight is ok ({weight} kg).\")\n",
    "\n",
    "# Gissa dimensioner och ge feedback\n",
    "dimension_names = [\"Height\", \"Width\", \"Depth\"]\n",
    "for i, (user_dim, max_dim) in enumerate(zip(dims_sorted, max_dims)):\n",
    "    name = dimension_names[i]\n",
    "    if user_dim > max_dim:\n",
    "        print(f\"Your luggage {name.lower()} is too big ({user_dim} cm, max {max_dim} cm).\")\n",
    "    else:\n",
    "        print(f\"{name} is ok ({user_dim} cm).\")\n",
    "\n",
    "# Slutkontroll\n",
    "if weight <= MAX_WEIGHT and all(u <= m for u, m in zip(dims_sorted, max_dims)):\n",
    "    print(\"Your luggage is ok to take with you!\")\n",
    "else:\n",
    "    print(\"\\nYour luggage is NOT allowed on the plane due to exceeding weight or dimensions.\")\n",
    "    print(\"If any number was entered incorrectly, please run the program again and enter the correct measurements.\")\n"
   ]
  },
  {
   "cell_type": "code",
   "execution_count": null,
   "id": "94fd5d19",
   "metadata": {},
   "outputs": [],
   "source": []
  }
 ],
 "metadata": {
  "kernelspec": {
   "display_name": "python_christoffer_carlsson_DE25 (3.12.10)",
   "language": "python",
   "name": "python3"
  },
  "language_info": {
   "codemirror_mode": {
    "name": "ipython",
    "version": 3
   },
   "file_extension": ".py",
   "mimetype": "text/x-python",
   "name": "python",
   "nbconvert_exporter": "python",
   "pygments_lexer": "ipython3",
   "version": "3.12.10"
  }
 },
 "nbformat": 4,
 "nbformat_minor": 5
}
