{
 "cells": [
  {
   "cell_type": "markdown",
   "id": "b4fb8997",
   "metadata": {},
   "source": [
    "# Glossary Python"
   ]
  },
  {
   "cell_type": "markdown",
   "id": "37c84c73",
   "metadata": {},
   "source": [
    "## Exercise 1\n",
    "\n",
    "- data type         - integer är heltal, float är tal med decimal, text är string och true/false är boolean\n",
    "- variable          - en låda med ett namn där du kan lagra data\n",
    "- assignment        - att ge ett värde till en variabel\n",
    "- dynamically typed - jag behöver inte tala om vilken typ av variabel det är. Det bestäms automatiskt av värdet\n",
    "- input             - när programmet tar emot information från användaren\n",
    "- output            - när programmet visar något för användaren\n",
    "- type casting      - när du byter en datatyp till en annan\n",
    "- boolean           - ett värde som antingen är sant eller falskt\n",
    "- string            - text i python. all text behöver vara inom citattecken\n",
    "- f-string          - ett sätt att bygga text/string som innehåller variabler\n",
    "- indentation       - python använder indragning/tab för att visa vad som hör ihop, t.ex i loopar eller villkor\n",
    "- convention        - en bra vana som pythonprogrammerare följer men som inte är obligatorisk. T.ex variabler med små bokstäver och understreck."
   ]
  },
  {
   "cell_type": "markdown",
   "id": "7b105d2b",
   "metadata": {},
   "source": [
    "## Exercise 2\n",
    "\n",
    "- control structures - bestämmer hur programmet styrs och i vilken ordning saker sker. if, for och while är alla kontrollstrukturer\n",
    "- conditional statement - ett beslut i programmet: något händer bara om ett villkor är sant\n",
    "- if - används för att testa ett villkor och köra kor om villkoret är sant\n",
    "- elif - står för else if. testar ett annat villkor om det första inte är sant\n",
    "- else - kör kod om inga andra tidigare villkor är sanna\n",
    "- for - en loop som kör kod ett bestämt antal gånger. Ofta tillsammans med range()\n",
    "- while - en loop som kör kod så länge ett villkor är sant\n",
    "- break - stoppar omedelbart en loop, även om villkoret inte är uppfyllt\n",
    "- continue - hoppar direkt till nästa iteration i loopen, utan att köra resten av koden i loopen.\n",
    "- Boolean expression - ett uttryck som blir True eller False. T.ex. x > 10 vilket betyder att True är om x är större än 10, annars False.\n",
    "- loop - kör samma kod flera gånger\n",
    "- Nested loop - en loop inuti en annan loop\n",
    "- Nested if statement - en if-sats inuti en if-sats\n",
    "- Expression - något som beräknar ett värde. T.ex. 3 + 4 eller x > 5\n",
    "- Statements - en komplett kodrad som gör något. T.ex. print(\"hej\")\n",
    "- Control flow- ordningen som koden körs i, och hur villkor och loopar påverkar det"
   ]
  },
  {
   "cell_type": "markdown",
   "id": "e3fd9b8b",
   "metadata": {},
   "source": [
    "## Exercise 3\n",
    "\n",
    "- sequence - en samling av värden som ligger i en viss ordning. Exempel på olika typer är list, tuple och range\n",
    "- list - en lista med värden som du kan ändra när du vill. Bra för listor som behöver vara flexibla\n",
    "- tuple - en lista med värden som inte kan ändras efter att den skapats\n",
    "- set - ett set är en samling saker där dubletter inte är tillåtna och orningen inte spelar någon roll\n",
    "- range - skapar en sekvens av siffror. används ofta i loopar.\n",
    "- indexing - betyder att man hämtar ett värde från en sekvens med hjälp av dess position. Index börjar alltid på 0\n",
    "- slicing - betyder att man tar ut en del av en sekvens. t.ex. ett namn av fem.\n",
    "- comprehension - är ett smart sätt att skapa listor med en kort kodrad\n",
    "- zip - kopplar ihop två eller flera sekvenser till par. T.ex. att man sätter ihop namn och ålder från olika sekvenser\n",
    "- enumerate - ger dig både index och värde när du går igenom en sekvens.\n",
    "- unpacking - betyder att man plockar isär en sekvens i flera variabler\n",
    "- membership test - används i Python för att kontrollera om ett värde finns i (eller inte finns i) en samling — till exempel en lista, sträng, tuple, set eller dictionary."
   ]
  },
  {
   "cell_type": "markdown",
   "id": "6b07b63a",
   "metadata": {},
   "source": [
    "## Exercise 4\n",
    "- replace - en metod som byter ut en text i en sträng. T.ex. \"hej\".replace(\"j\", \"ll\") → \"hell\"\n",
    "- regular expression (regex) - Ett mönster man använder för att söka, matcha eller ändra text på avancerade sätt. Ex: re.search(r\"\\d+\", \"abc123\") hittar siffrorna 123\n",
    "- concatenation - Att \"slå ihop\" strängar. Ex: \"Hej\" + \" \" + \"där\" → \"Hej där\"\n",
    "- split - Delar upp en sträng i en lista baserat på mellanslag eller annat tecken. Ex: \"hej då\".split() → [\"hej\", \"då\"]\n",
    "- indexing - Att komma åt ett specifikt element i en lista eller sträng. Ex: \"hej\"[1] → \"e\"\n",
    "- escape characters - Specialtecken som börjar med \\ för att t.ex. skriva radbrytningar eller citattecken. Ex: \\n (ny rad), \\\" (citattecken).\n",
    "- unicode - Ett system för att representera tecken från alla språk. Ex: \"\\u2764\" → ❤️\n",
    "- exception - Ett fel som inträffar när programmet körs. Ex: ValueError, ZeroDivisionError\n",
    "- try block - Kod som kan ge fel, som Python försöker köra. try: x = int(\"hej\")\n",
    "- except block - Kod som körs om ett fel inträffar i try-blocket. Ex: except ValueError: print(\"Fel!\")\n",
    "- finally block - Kod som alltid körs — oavsett om fel inträffade eller inte. Ex: finally: print(\"Klar!\")\n",
    "- traceback - Felmeddelandet som visar var i koden ett fel inträffade.\n",
    "- open() - Används för att öppna en fil (för läsning eller skrivning). Ex: open(\"fil.txt\", \"r\")\n",
    "- with - Ett sätt att öppna filer säkert – stänger filen automatiskt. Ex: with open(\"fil.txt\") as f: data = f.read()\n",
    "- context manager - Objekt (som filer) som används med with och hanterar att öppna/stänga resurser.\n",
    "- close() Stänger en fil som öppnats med open(). Ex: f = open(\"fil.txt\") f.close()"
   ]
  },
  {
   "cell_type": "markdown",
   "id": "cebd1706",
   "metadata": {},
   "source": []
  }
 ],
 "metadata": {
  "kernelspec": {
   "display_name": "python_christoffer_carlsson_DE25 (3.12.10)",
   "language": "python",
   "name": "python3"
  },
  "language_info": {
   "codemirror_mode": {
    "name": "ipython",
    "version": 3
   },
   "file_extension": ".py",
   "mimetype": "text/x-python",
   "name": "python",
   "nbconvert_exporter": "python",
   "pygments_lexer": "ipython3",
   "version": "3.12.10"
  }
 },
 "nbformat": 4,
 "nbformat_minor": 5
}
