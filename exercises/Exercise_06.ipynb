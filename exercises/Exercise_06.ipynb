{
 "cells": [
  {
   "cell_type": "markdown",
   "id": "ea03e1b4",
   "metadata": {},
   "source": [
    "# Exercises OOP"
   ]
  },
  {
   "cell_type": "code",
   "execution_count": 3,
   "id": "6809cc70",
   "metadata": {},
   "outputs": [
    {
     "name": "stdout",
     "output_type": "stream",
     "text": [
      "Välkommen till enhetomvandlaren!\n",
      "Du kan omvandla inch till cm, foot till meter och pound till kg.\n",
      "------------------------------------------------------------------\n",
      "Välj vad du vill omvandla:\n",
      "1. tum till cm\n",
      "2. fot till meter\n",
      "3. pund till kg\n",
      "5.0 inch är 12.7 cm\n"
     ]
    }
   ],
   "source": [
    "class Converter:\n",
    "    def __init__(self, value):\n",
    "        # checking that value is int or float\n",
    "        if not isinstance(value, (int, float)):\n",
    "            raise TypeError(\"Value must be a number\")\n",
    "        self.value = value\n",
    "\n",
    "    def value(self):\n",
    "        return self.value\n",
    "\n",
    "    def value(self, new_value):\n",
    "        if not isinstance(new_value, (int, float)):\n",
    "            raise TypeError(\"Value must be a number\")\n",
    "        self.value = new_value\n",
    "\n",
    "    \n",
    "    def inch_to_cm(self):\n",
    "        return self.value * 2.54\n",
    "\n",
    "    def foot_to_meter(self):\n",
    "        return self.value * 0.3048\n",
    "\n",
    "    def pound_to_kg(self):\n",
    "        return self.value * 0.453592\n",
    "\n",
    "    def __repr__(self):\n",
    "        return f\"Converter(value = {self.value})\"\n",
    "\n",
    "print(\"Välkommen till enhetomvandlaren!\")\n",
    "print(\"Du kan omvandla inch till cm, foot till meter och pound till kg.\")\n",
    "print(\"------------------------------------------------------------------\")\n",
    "\n",
    "try:\n",
    "    user_input = float(input(\"Ange ett nummer att omvandla: \"))\n",
    "    c = Converter(user_input)\n",
    "\n",
    "    print(\"Välj vad du vill omvandla:\")\n",
    "    print(\"1. tum till cm\")\n",
    "    print(\"2. fot till meter\")\n",
    "    print(\"3. pund till kg\")\n",
    "    \n",
    "    choice = input(\"Ange ditt val (1/2/3): \")\n",
    "\n",
    "    if choice == \"1\":\n",
    "        print(f\"{c.value} inch är {c.inch_to_cm()} cm\")\n",
    "    elif choice == \"2\":\n",
    "        print(f\"{c.value} foot är {c.foot_to_meter()} meter\")\n",
    "    elif choice == \"3\":\n",
    "        print(f\"{c.value} pound är {c.pound_to_kg()} kg\")\n",
    "    else:\n",
    "        print(f\"Ogiltigt val: {choice}\")\n",
    "\n",
    "except ValueError:\n",
    "    print(\"Fel: Vänligen ange ett giltigt nummer.\")\n",
    "\n",
    "except TypeError as e:\n",
    "    print(f\"Fel: {e}\")\n"
   ]
  },
  {
   "cell_type": "markdown",
   "id": "c2247f26",
   "metadata": {},
   "source": []
  }
 ],
 "metadata": {
  "kernelspec": {
   "display_name": "Python 3",
   "language": "python",
   "name": "python3"
  },
  "language_info": {
   "codemirror_mode": {
    "name": "ipython",
    "version": 3
   },
   "file_extension": ".py",
   "mimetype": "text/x-python",
   "name": "python",
   "nbconvert_exporter": "python",
   "pygments_lexer": "ipython3",
   "version": "3.12.10"
  }
 },
 "nbformat": 4,
 "nbformat_minor": 5
}
