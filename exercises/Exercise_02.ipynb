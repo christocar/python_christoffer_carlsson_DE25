{
 "cells": [
  {
   "cell_type": "code",
   "execution_count": null,
   "id": "9c7746b8",
   "metadata": {},
   "outputs": [],
   "source": []
  },
  {
   "cell_type": "markdown",
   "id": "322c4228",
   "metadata": {},
   "source": [
    "# Exercise 02 Control structures"
   ]
  },
  {
   "cell_type": "markdown",
   "id": "48057ac9",
   "metadata": {},
   "source": [
    "\"\"\"\n",
    "* if statements\n",
    "* for statements\n",
    "* while statements\n",
    "\n",
    "\"\"\""
   ]
  },
  {
   "cell_type": "code",
   "execution_count": 19,
   "id": "5893f129",
   "metadata": {},
   "outputs": [
    {
     "name": "stdout",
     "output_type": "stream",
     "text": [
      "You inserted 8. The number is even\n"
     ]
    }
   ],
   "source": [
    "number = int(input(\"Insert you number\"))\n",
    "\n",
    "if number == 0:\n",
    "    print(f\"You inserted a {number}. The number is a zero\")\n",
    "elif number % 2 == 0:\n",
    "    print(f\"You inserted {number}. The number is even\")\n",
    "else:\n",
    "    print(f\"You inserted {number}. The number is odd\")"
   ]
  },
  {
   "cell_type": "code",
   "execution_count": 21,
   "id": "919280a2",
   "metadata": {},
   "outputs": [
    {
     "name": "stdout",
     "output_type": "stream",
     "text": [
      "You inserted 0. The number is zero.\n"
     ]
    }
   ],
   "source": [
    "#Samma lösning fast från chatGPT\n",
    "\n",
    "number = int(input(\"Insert your number: \"))\n",
    "\n",
    "if number == 0:\n",
    "    description = \"zero\"\n",
    "elif number % 2 == 0:\n",
    "    description = \"even\"\n",
    "else:\n",
    "    description = \"odd\"\n",
    "\n",
    "print(f\"You inserted {number}. The number is {description}.\")"
   ]
  },
  {
   "cell_type": "code",
   "execution_count": null,
   "id": "7861b072",
   "metadata": {},
   "outputs": [],
   "source": []
  }
 ],
 "metadata": {
  "kernelspec": {
   "display_name": "python_christoffer_carlsson_DE25",
   "language": "python",
   "name": "python3"
  },
  "language_info": {
   "codemirror_mode": {
    "name": "ipython",
    "version": 3
   },
   "file_extension": ".py",
   "mimetype": "text/x-python",
   "name": "python",
   "nbconvert_exporter": "python",
   "pygments_lexer": "ipython3",
   "version": "3.12.10"
  }
 },
 "nbformat": 4,
 "nbformat_minor": 5
}
