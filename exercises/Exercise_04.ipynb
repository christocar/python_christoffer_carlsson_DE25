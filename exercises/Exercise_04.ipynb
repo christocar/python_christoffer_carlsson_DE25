{
 "cells": [
  {
   "cell_type": "markdown",
   "id": "589d07c9",
   "metadata": {},
   "source": [
    "# Exercise 04"
   ]
  },
  {
   "cell_type": "markdown",
   "id": "2d343185",
   "metadata": {},
   "source": [
    "##### Counting words"
   ]
  },
  {
   "cell_type": "code",
   "execution_count": 1,
   "id": "4ec6148b",
   "metadata": {},
   "outputs": [
    {
     "name": "stdout",
     "output_type": "stream",
     "text": [
      "The number of words i this sentence is 17\n"
     ]
    }
   ],
   "source": [
    "text = \"A picture says more than a thousand words, a matematical formula says more than a thousand pictures.\" # spara meningen i en variabel\n",
    "\n",
    "words = text.split() # dela upp texten vid varje mellanslag\n",
    "\n",
    "number_of_words = len(words)\n",
    "\n",
    "print(f\"The number of words i this sentence is {number_of_words}\")"
   ]
  },
  {
   "cell_type": "markdown",
   "id": "2e8d6451",
   "metadata": {},
   "source": [
    "##### Counting letters"
   ]
  },
  {
   "cell_type": "code",
   "execution_count": null,
   "id": "e93c502e",
   "metadata": {},
   "outputs": [
    {
     "name": "stdout",
     "output_type": "stream",
     "text": [
      "Antalet bokstäver i ordet är 7.\n",
      "Antalet stora bokstäver i ordet är 1.\n",
      "Antalet små bokstäver i ordet är 6.\n"
     ]
    }
   ],
   "source": [
    "# counting letters\n",
    "word = input(\"Type a word of your choice: \") # be användaren att skriva in ett ord\n",
    "number_of_letters = len(word) # len() hjälper dig att räkna antalet bokstäver i ordet\n",
    "uppercase = 0\n",
    "lowercase = 0\n",
    "\n",
    "for letter in word:\n",
    "    if letter.isupper():\n",
    "        uppercase += 1\n",
    "    elif letter.islower():\n",
    "        lowercase += 1\n",
    "\n",
    "print(f\"Antalet bokstäver i ordet är {number_of_letters}.\")\n",
    "print(f\"Antalet stora bokstäver i ordet är {uppercase}.\")\n",
    "print(f\"Antalet små bokstäver i ordet är {lowercase}.\")"
   ]
  },
  {
   "cell_type": "markdown",
   "id": "56f68f06",
   "metadata": {},
   "source": [
    "##### Palindrome"
   ]
  },
  {
   "cell_type": "code",
   "execution_count": null,
   "id": "321cad3d",
   "metadata": {},
   "outputs": [
    {
     "name": "stdout",
     "output_type": "stream",
     "text": [
      "Texten är inte ett palindrom\n"
     ]
    }
   ],
   "source": [
    "text = input(\"Vänligen skriv in en text. Vi ska undersöka om det är ett palindrom\") # be användaren om ett ord\n",
    "\n",
    "clean_text = text.replace(\" \", \"\").lower() # ta bort mellanrum och gör alla bokstäver till små\n",
    "\n",
    "if clean_text == clean_text[::-1]: # ::-1 vänder på texten\n",
    "    print(\"Texten är ett palindrom\")\n",
    "else:\n",
    "    print(\"Texten är inte ett palindrom\")"
   ]
  },
  {
   "cell_type": "code",
   "execution_count": 7,
   "id": "9f38efb4",
   "metadata": {},
   "outputs": [
    {
     "name": "stdout",
     "output_type": "stream",
     "text": [
      "Antal vokaler i meningen är:  22\n"
     ]
    }
   ],
   "source": [
    "text = \"Pure mathematics is, in its way, the poetry of logical ideas\" # texten som skall genomsökas efter vokaler\n",
    "vowels = \"aeiouyåäö\"\n",
    "text = text.lower()\n",
    "\n",
    "count = 0\n",
    "for letter in text:\n",
    "    if letter in vowels:\n",
    "        count += 1\n",
    "print(\"Antal vokaler i meningen är: \", count)\n",
    "\n",
    "\n",
    "\n"
   ]
  },
  {
   "cell_type": "markdown",
   "id": "f9a97d92",
   "metadata": {},
   "source": [
    "##### find and fix errors"
   ]
  },
  {
   "cell_type": "code",
   "execution_count": 11,
   "id": "c94532a0",
   "metadata": {},
   "outputs": [
    {
     "name": "stdout",
     "output_type": "stream",
     "text": [
      "1.0\n"
     ]
    }
   ],
   "source": [
    "import numpy as np\n",
    "\n",
    "def distance(x, y):\n",
    "    return np.sqrt(x + y)\n",
    "\n",
    "print(distance(0.5, 0.5))"
   ]
  },
  {
   "cell_type": "markdown",
   "id": "9567a889",
   "metadata": {},
   "source": [
    "##### find and fix errors"
   ]
  },
  {
   "cell_type": "code",
   "execution_count": 30,
   "id": "37bf089d",
   "metadata": {},
   "outputs": [
    {
     "name": "stdout",
     "output_type": "stream",
     "text": [
      "231 is not four-digit\n",
      "3124 is four-digit\n",
      "-4124 is four-digit\n",
      "-1000 is four-digit\n",
      "-999 is not four-digit\n",
      "1001 is four-digit\n",
      "10000 is not four-digit\n",
      "-10000 is not four-digit\n",
      "999 is not four-digit\n"
     ]
    }
   ],
   "source": [
    "def is_fourdigit(number):\n",
    "    number = abs(number)    \n",
    "    if number >= 1000 and number <= 9999:\n",
    "        return True\n",
    "    else:\n",
    "        return False\n",
    "\n",
    "# test program\n",
    "test_numbers = [231, 3124, -4124, -1000,-999, 1001, 10000, -10000, 999]\n",
    "\n",
    "for number in test_numbers:\n",
    "    if is_fourdigit(number):\n",
    "        print(f\"{number} is four-digit\")\n",
    "    else:\n",
    "        print(f\"{number} is not four-digit\")"
   ]
  },
  {
   "cell_type": "markdown",
   "id": "8096d1c9",
   "metadata": {},
   "source": [
    "##### Tram - write a program that will calculate if the monthly fee is worth the investment instead of one ticket at a time"
   ]
  },
  {
   "cell_type": "code",
   "execution_count": 33,
   "id": "0a5836d0",
   "metadata": {},
   "outputs": [
    {
     "name": "stdout",
     "output_type": "stream",
     "text": [
      "\n",
      "--- Resultat ---\n",
      "Totalkostnad med biljetter: 814.00 kr\n",
      "Kostnad för månadskort: 600.00 kr\n",
      "OBS! Det är billigare att köpa månadskort!\n"
     ]
    }
   ],
   "source": [
    "while True:\n",
    "    try:\n",
    "        #fråga användaren om hur många resor som är förväntade under en månad\n",
    "        trips = int(input(\"Hur många gånger vill du åka spårvagn denna månad? \"))\n",
    "\n",
    "        #fråga om biljettpris när man köper dem en åt gången\n",
    "        ticket_price = float(input(\"Vad kostar en biljett åt gången? \"))\n",
    "\n",
    "        # fråga vad månadskortet kostar\n",
    "        monthly_card = float(input(\"Vad kostar ett månadskort? \"))\n",
    "\n",
    "        # om while-loopen kommit hit utan fel så avsluta den här.\n",
    "        break\n",
    "\n",
    "    except ValueError:\n",
    "        print(\"Fel! Skriv bara siffror (1, 23, 499 osv.). Försök igen.\\n\")\n",
    "    \n",
    "    # räkna totalkostnad\n",
    "\n",
    "total_ticket_cost = trips * ticket_price\n",
    "\n",
    "    # jämför och skriv ut resultat\n",
    "print(\"\\n--- Resultat ---\")\n",
    "print(f\"Totalkostnad med biljetter: {total_ticket_cost:.2f} kr\")\n",
    "print(f\"Kostnad för månadskort: {monthly_card:.2f} kr\")\n",
    "\n",
    "if total_ticket_cost > monthly_card:\n",
    "    print(\"OBS! Det är billigare att köpa månadskort!\")\n",
    "else:\n",
    "    print(\"OBS! Det är billigare att köpa biljetter styckvis!\")"
   ]
  },
  {
   "cell_type": "markdown",
   "id": "53f179f4",
   "metadata": {},
   "source": [
    "##### Dice rolls - text file"
   ]
  },
  {
   "cell_type": "code",
   "execution_count": 36,
   "id": "5aae5e57",
   "metadata": {},
   "outputs": [],
   "source": [
    "import random\n",
    "\n",
    "dice_rolls = [random.randint(1, 6) for _ in range(20)]\n",
    "\n",
    "sorted_rolls = sorted(dice_rolls)\n",
    "\n",
    "fours_count = dice_rolls.count(4)\n",
    "\n",
    "with open(\"dice_rolls.txt\", \"w\") as file:\n",
    "    file.write(\"a) Original dice rolls:\\n\")\n",
    "    file.write(\" \".join(str(num) for num in dice_rolls) + \"\\n\\n\")\n",
    "\n",
    "    file.write(\"b) Sorted dice rolls:\\n\")\n",
    "    file.write(\" \".join(str(num) for num in sorted_rolls) + \"\\n\\n\")\n",
    "\n",
    "    file.write(\"c) Number of fours:\\n\")\n",
    "    file.write(str(fours_count) + \"\\n\")"
   ]
  },
  {
   "cell_type": "code",
   "execution_count": null,
   "id": "21b32c3a",
   "metadata": {},
   "outputs": [],
   "source": []
  }
 ],
 "metadata": {
  "kernelspec": {
   "display_name": "python_christoffer_carlsson_DE25 (3.12.10)",
   "language": "python",
   "name": "python3"
  },
  "language_info": {
   "codemirror_mode": {
    "name": "ipython",
    "version": 3
   },
   "file_extension": ".py",
   "mimetype": "text/x-python",
   "name": "python",
   "nbconvert_exporter": "python",
   "pygments_lexer": "ipython3",
   "version": "3.12.10"
  }
 },
 "nbformat": 4,
 "nbformat_minor": 5
}
