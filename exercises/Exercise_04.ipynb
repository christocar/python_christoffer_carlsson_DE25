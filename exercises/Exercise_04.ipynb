{
 "cells": [
  {
   "cell_type": "markdown",
   "id": "589d07c9",
   "metadata": {},
   "source": [
    "# Exercise 04"
   ]
  },
  {
   "cell_type": "markdown",
   "id": "2d343185",
   "metadata": {},
   "source": [
    "##### Counting words"
   ]
  },
  {
   "cell_type": "code",
   "execution_count": 1,
   "id": "4ec6148b",
   "metadata": {},
   "outputs": [
    {
     "name": "stdout",
     "output_type": "stream",
     "text": [
      "The number of words i this sentence is 17\n"
     ]
    }
   ],
   "source": [
    "text = \"A picture says more than a thousand words, a matematical formula says more than a thousand pictures.\" # spara meningen i en variabel\n",
    "\n",
    "words = text.split() # dela upp texten vid varje mellanslag\n",
    "\n",
    "number_of_words = len(words)\n",
    "\n",
    "print(f\"The number of words i this sentence is {number_of_words}\")"
   ]
  },
  {
   "cell_type": "code",
   "execution_count": null,
   "id": "2e8d6451",
   "metadata": {},
   "outputs": [],
   "source": []
  }
 ],
 "metadata": {
  "kernelspec": {
   "display_name": "python_christoffer_carlsson_DE25 (3.12.10)",
   "language": "python",
   "name": "python3"
  },
  "language_info": {
   "codemirror_mode": {
    "name": "ipython",
    "version": 3
   },
   "file_extension": ".py",
   "mimetype": "text/x-python",
   "name": "python",
   "nbconvert_exporter": "python",
   "pygments_lexer": "ipython3",
   "version": "3.12.10"
  }
 },
 "nbformat": 4,
 "nbformat_minor": 5
}
